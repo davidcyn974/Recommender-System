{
 "cells": [
  {
   "cell_type": "markdown",
   "metadata": {},
   "source": [
    "# Project Assignment: Movie Pairing Recommender System\n",
    "## Objective\n",
    "Develop a recommender system that pairs two movies based on complementary genres, themes, or viewer preferences, similar to the concept used on Date Night Movies."
   ]
  },
  {
   "cell_type": "markdown",
   "metadata": {},
   "source": [
    "#### Import des librairies"
   ]
  },
  {
   "cell_type": "code",
   "execution_count": 1,
   "metadata": {},
   "outputs": [],
   "source": [
    "import numpy as np\n",
    "import matplotlib.pyplot as plt\n",
    "import pandas as pd"
   ]
  },
  {
   "cell_type": "markdown",
   "metadata": {},
   "source": [
    "## Datasets\n",
    "Les datasets suivant vont être utilsés :\n",
    "\n",
    "MovieLens Dataset: MovieLens\n",
    "https://files.grouplens.org/datasets/movielens/ml-1m.zip\n",
    "\n",
    "IMDb Dataset: IMDb Datasets:\n",
    "- name.basics.tsv.gz\n",
    "- title.basics.tsv.gz\\\n",
    "https://datasets.imdbws.com/\n"
   ]
  },
  {
   "cell_type": "markdown",
   "metadata": {},
   "source": [
    "## Tasks\n",
    "\n",
    "1. **Data Collection and Preprocessing**\n",
    "   - Download the MovieLens and IMDb datasets.\n"
   ]
  },
  {
   "cell_type": "markdown",
   "metadata": {},
   "source": [
    "La première étape est de télécharger les datasets."
   ]
  },
  {
   "cell_type": "code",
   "execution_count": 2,
   "metadata": {},
   "outputs": [
    {
     "name": "stderr",
     "output_type": "stream",
     "text": [
      "C:\\Users\\user_\\AppData\\Local\\Temp\\ipykernel_12200\\2416125625.py:2: DtypeWarning: Columns (4) have mixed types. Specify dtype option on import or set low_memory=False.\n",
      "  title_basics_df = pd.read_csv('title.basics.tsv', sep='\\t')\n"
     ]
    }
   ],
   "source": [
    "# Load the data \n",
    "title_basics_df = pd.read_csv('title.basics.tsv', sep='\\t')\n",
    "name_basics_df = pd.read_csv('name.basics.tsv', sep='\\t')\n",
    "\n",
    "movies_dat_df = pd.read_csv('movielens/movies.dat', sep='::', header=None, engine='python', names=['MovieID', 'Title', 'Genres'], encoding='ISO-8859-1')\n",
    "ratings_dat_df = pd.read_csv('movielens/ratings.dat', sep='::', header=None, engine='python', names=['UserID', 'MovieID', 'Rating', 'Timestamp'], encoding='ISO-8859-1')\n",
    "users_dat_df = pd.read_csv('movielens/users.dat', sep='::', header=None, engine='python', names=['UserID', 'Gender', 'Age', 'Occupation', 'Zip-code'], encoding='ISO-8859-1')"
   ]
  },
  {
   "cell_type": "markdown",
   "metadata": {},
   "source": [
    "Ensuite on le affiches rapidement pour avoir une idée des données visuellement."
   ]
  },
  {
   "cell_type": "code",
   "execution_count": 3,
   "metadata": {},
   "outputs": [
    {
     "name": "stdout",
     "output_type": "stream",
     "text": [
      "**********-------IMDB Title Basics----------**********\n",
      "      tconst titleType            primaryTitle           originalTitle isAdult startYear endYear runtimeMinutes                    genres\n",
      "0  tt0000001     short              Carmencita              Carmencita       0      1894      \\N              1         Documentary,Short\n",
      "1  tt0000002     short  Le clown et ses chiens  Le clown et ses chiens       0      1892      \\N              5           Animation,Short\n",
      "2  tt0000003     short          Pauvre Pierrot          Pauvre Pierrot       0      1892      \\N              5  Animation,Comedy,Romance\n",
      "**********-------IMDB Name Basics----------**********\n",
      "      nconst      primaryName birthYear deathYear                   primaryProfession                           knownForTitles\n",
      "0  nm0000001     Fred Astaire      1899      1987        actor,miscellaneous,producer  tt0072308,tt0050419,tt0053137,tt0027125\n",
      "1  nm0000002    Lauren Bacall      1924      2014  actress,soundtrack,archive_footage  tt0037382,tt0075213,tt0117057,tt0038355\n",
      "2  nm0000003  Brigitte Bardot      1934        \\N   actress,music_department,producer  tt0057345,tt0049189,tt0056404,tt0054452\n",
      "**********-------Movies MovieLens----------**********\n",
      "   MovieID                    Title                        Genres\n",
      "0        1         Toy Story (1995)   Animation|Children's|Comedy\n",
      "1        2           Jumanji (1995)  Adventure|Children's|Fantasy\n",
      "2        3  Grumpier Old Men (1995)                Comedy|Romance\n",
      "**********-------Ratings MovieLens----------**********\n",
      "   UserID  MovieID  Rating  Timestamp\n",
      "0       1     1193       5  978300760\n",
      "1       1      661       3  978302109\n",
      "2       1      914       3  978301968\n",
      "**********-------Users MovieLens----------**********\n",
      "   UserID Gender  Age  Occupation Zip-code\n",
      "0       1      F    1          10    48067\n",
      "1       2      M   56          16    70072\n",
      "2       3      M   25          15    55117\n"
     ]
    }
   ],
   "source": [
    "# Set display options to avoid truncation\n",
    "pd.set_option('display.max_columns', None)  # Display all columns\n",
    "pd.set_option('display.expand_frame_repr', False)  # Do not wrap in the display\n",
    "\n",
    "# Simple look at the data \n",
    "print('**********-------IMDB Title Basics----------**********')\n",
    "print(title_basics_df.head(3))\n",
    "print('**********-------IMDB Name Basics----------**********')\n",
    "print(name_basics_df.head(3))\n",
    "print('**********-------Movies MovieLens----------**********')\n",
    "print(movies_dat_df.head(3))\n",
    "print('**********-------Ratings MovieLens----------**********')\n",
    "print(ratings_dat_df.head(3))\n",
    "print('**********-------Users MovieLens----------**********')\n",
    "print(users_dat_df.head(3))"
   ]
  },
  {
   "cell_type": "markdown",
   "metadata": {},
   "source": [
    "2. **Feature Engineering**\n",
    "  - Extract relevant features, you can choose the basic ones or create composite ones. A few examples are genres, directors, cast, and ratings.\n",
    "  "
   ]
  },
  {
   "cell_type": "markdown",
   "metadata": {},
   "source": [
    "C'est important de connaitre les dimensions des données donc je décide de les afficher."
   ]
  },
  {
   "cell_type": "code",
   "execution_count": 4,
   "metadata": {},
   "outputs": [
    {
     "name": "stdout",
     "output_type": "stream",
     "text": [
      "**********-------IMDB Title Basics----------**********\n",
      "(10856095, 9)\n",
      "**********-------IMDB Name Basics----------**********\n",
      "(13575526, 6)\n",
      "**********-------Movies MovieLens----------**********\n",
      "(3883, 3)\n",
      "**********-------Ratings MovieLens----------**********\n",
      "(1000209, 4)\n",
      "**********-------Users MovieLens----------**********\n",
      "(6040, 5)\n"
     ]
    }
   ],
   "source": [
    "# Print the size of the datasets\n",
    "print('**********-------IMDB Title Basics----------**********')\n",
    "print(title_basics_df.shape)\n",
    "print('**********-------IMDB Name Basics----------**********')\n",
    "print(name_basics_df.shape)\n",
    "print('**********-------Movies MovieLens----------**********')\n",
    "print(movies_dat_df.shape)\n",
    "print('**********-------Ratings MovieLens----------**********')\n",
    "print(ratings_dat_df.shape)\n",
    "print('**********-------Users MovieLens----------**********')\n",
    "print(users_dat_df.shape)"
   ]
  },
  {
   "cell_type": "markdown",
   "metadata": {},
   "source": [
    "De même pour les colonnes.\n"
   ]
  },
  {
   "cell_type": "code",
   "execution_count": 5,
   "metadata": {},
   "outputs": [
    {
     "name": "stdout",
     "output_type": "stream",
     "text": [
      "**********-------IMDB Title Basics----------**********\n",
      "Index(['tconst', 'titleType', 'primaryTitle', 'originalTitle', 'isAdult',\n",
      "       'startYear', 'endYear', 'runtimeMinutes', 'genres'],\n",
      "      dtype='object')\n",
      "**********-------Movies MovieLens----------**********\n",
      "Index(['MovieID', 'Title', 'Genres'], dtype='object')\n"
     ]
    }
   ],
   "source": [
    "# Get the columns of the movies datasets to see on which columns we can join\n",
    "print('**********-------IMDB Title Basics----------**********')\n",
    "print(title_basics_df.columns)\n",
    "print('**********-------Movies MovieLens----------**********')\n",
    "print(movies_dat_df.columns)"
   ]
  },
  {
   "cell_type": "markdown",
   "metadata": {},
   "source": [
    "Ces informations ont été extraites du README de Movie Lens Datasets:\\\n",
    "https://developer.imdb.com/non-commercial-datasets/\n",
    "1. name.basics\n",
    "- primaryName (string)– name by which the person is most often credited\n",
    "- birthYear – in YYYY format\n",
    "- deathYear – in YYYY format if applicable, else '\\N'\n",
    "- primaryProfession (array of strings)– the top-3 professions of the person\n",
    "- knownForTitles (array of tconsts) – titles the person is known for\n",
    "\n",
    "Je ne vais pas utiliser ce dataset par manque de ressources.\\\n",
    "(Cela sera expliqué plus tard)\n",
    "\n",
    "2. title.basics.tsv.gz\n",
    "- tconst (string) - alphanumeric unique identifier of the title\n",
    "- titleType (string) – the type/format of the title (e.g. movie, short, tvseries, tvepisode, video, etc)\n",
    "- primaryTitle (string) – the more popular title / the title used by the filmmakers on promotional materials at the point of release\n",
    "- originalTitle (string) - original title, in the original language\n",
    "- isAdult (boolean) - 0: non-adult title; 1: adult title\n",
    "- startYear (YYYY) – represents the release year of a title. In the case of TV Series, it is the series start year\n",
    "- endYear (YYYY) – TV Series end year. ‘\\N’ for all other title types\n",
    "- runtimeMinutes – primary runtime of the title, in minutes\n",
    "- genres (string array) – includes up to three genres associated with the title\n"
   ]
  },
  {
   "cell_type": "markdown",
   "metadata": {},
   "source": [
    "Ici j'applique plusieurs prétraitements sur les données.\\\n",
    "Pour les titres de films:\n",
    "- Suppression des caractères spéciaux\n",
    "- Suppression des années, puis création d'une colonne pour stocker ces années\n",
    "\n",
    "Pour les type de d'assets:\n",
    "- Je garde uniquement les films\n",
    "- J'enlève les autres types d'assets : TVseries, short, etc.\n"
   ]
  },
  {
   "cell_type": "code",
   "execution_count": 6,
   "metadata": {},
   "outputs": [
    {
     "name": "stdout",
     "output_type": "stream",
     "text": [
      "**********-------IMDB Title Basics----------**********\n",
      "        tconst titleType                   primaryTitle                  originalTitle isAdult startYear endYear runtimeMinutes                  genres\n",
      "8    tt0000009     movie                     Miss Jerry                     Miss Jerry       0      1894      \\N             45                 Romance\n",
      "144  tt0000147     movie  The Corbett-Fitzsimmons Fight  The Corbett-Fitzsimmons Fight       0      1897      \\N            100  Documentary,News,Sport\n",
      "498  tt0000502     movie                       Bohemios                       Bohemios       0      1905      \\N            100                      \\N\n",
      "**********-------Movies MovieLens----------**********\n",
      "   MovieID             Title                        Genres  Year\n",
      "0        1         Toy Story   Animation|Children's|Comedy  1995\n",
      "1        2           Jumanji  Adventure|Children's|Fantasy  1995\n",
      "2        3  Grumpier Old Men                Comedy|Romance  1995\n"
     ]
    }
   ],
   "source": [
    "pd.set_option('display.max_columns', None)  # Show all columns\n",
    "\n",
    "# Apply preprocessing to the titles : remove special characters, lower case, remove spaces, punctuation\n",
    "# Remove special characters\n",
    "title_basics_df['primaryTitle'] = title_basics_df['primaryTitle'].str.replace('[^A-Za-z0-9\\s]+', '')\n",
    "title_basics_df['originalTitle'] = title_basics_df['originalTitle'].str.replace('[^A-Za-z0-9\\s]+', '') # .str.lower() #.str.replace(' ', '')\n",
    "movies_dat_df['Title'] = movies_dat_df['Title'].str.replace('[^A-Za-z0-9\\s]+', '')\n",
    "\n",
    "# Keep only movies type of \"titleType\" in the IMDB dataset\n",
    "title_basics_df = title_basics_df[title_basics_df['titleType'] == 'movie']\n",
    "\n",
    "# Create a new column with the Movie Lens titles, because it contains the year of the movie\n",
    "# Ex :\"Toy Story (1995)\" -> \"Toy Story\n",
    "movies_dat_df['Year'] = movies_dat_df['Title'].str.extract(r\"\\((\\d{4})\\)\", expand=False)\n",
    "movies_dat_df['Title'] = movies_dat_df['Title'].str.replace(r\"\\(\\d{4}\\)\", \"\", regex=True).str.strip()\n",
    "\n",
    "print('**********-------IMDB Title Basics----------**********')\n",
    "print(title_basics_df.head(3))\n",
    "print('**********-------Movies MovieLens----------**********')\n",
    "print(movies_dat_df.head(3))"
   ]
  },
  {
   "cell_type": "markdown",
   "metadata": {},
   "source": [
    "1. **Data Collection and Preprocessing**\n",
    "  - Merge datasets to include movie ratings, genres, and metadata.\n"
   ]
  },
  {
   "cell_type": "code",
   "execution_count": 7,
   "metadata": {},
   "outputs": [
    {
     "name": "stdout",
     "output_type": "stream",
     "text": [
      "   MovieID             Title                        Genres  Year     tconst titleType      primaryTitle     originalTitle isAdult startYear endYear runtimeMinutes                      genres\n",
      "0        1         Toy Story   Animation|Children's|Comedy  1995  tt0114709     movie         Toy Story         Toy Story       0      1995      \\N             81  Adventure,Animation,Comedy\n",
      "1        2           Jumanji  Adventure|Children's|Fantasy  1995  tt0113497     movie           Jumanji           Jumanji       0      1995      \\N            104     Adventure,Comedy,Family\n",
      "2        3  Grumpier Old Men                Comedy|Romance  1995  tt0113228     movie  Grumpier Old Men  Grumpier Old Men       0      1995      \\N            101              Comedy,Romance\n"
     ]
    }
   ],
   "source": [
    "# Merge the two datasets based on the movies that are presents in both datasets (IMDB and MovieLens)\n",
    "# We will use the title_basics_df and movies_dat_df to merge the two datasets\n",
    "# The merge is based on the title key (primaryTitle and Title) because the other features may vary\n",
    "pd.set_option('display.max_columns', None)  # Show all columns\n",
    "merged_df = pd.merge(movies_dat_df, title_basics_df, left_on='Title', right_on='primaryTitle', how='inner')\n",
    "print(merged_df.head(3))"
   ]
  },
  {
   "cell_type": "code",
   "execution_count": 8,
   "metadata": {},
   "outputs": [
    {
     "name": "stdout",
     "output_type": "stream",
     "text": [
      "      MovieID                        Title                        Genres  Year      tconst titleType                 primaryTitle                originalTitle isAdult startYear endYear runtimeMinutes                      genres\n",
      "0           1                    Toy Story   Animation|Children's|Comedy  1995   tt0114709     movie                    Toy Story                    Toy Story       0      1995      \\N             81  Adventure,Animation,Comedy\n",
      "1           2                      Jumanji  Adventure|Children's|Fantasy  1995   tt0113497     movie                      Jumanji                      Jumanji       0      1995      \\N            104     Adventure,Comedy,Family\n",
      "2           3             Grumpier Old Men                Comedy|Romance  1995   tt0113228     movie             Grumpier Old Men             Grumpier Old Men       0      1995      \\N            101              Comedy,Romance\n",
      "3           4            Waiting to Exhale                  Comedy|Drama  1995   tt0114885     movie            Waiting to Exhale            Waiting to Exhale       0      1995      \\N            124        Comedy,Drama,Romance\n",
      "4           5  Father of the Bride Part II                        Comedy  1995   tt0113041     movie  Father of the Bride Part II  Father of the Bride Part II       0      1995      \\N            106       Comedy,Family,Romance\n",
      "...       ...                          ...                           ...   ...         ...       ...                          ...                          ...     ...       ...     ...            ...                         ...\n",
      "7074     3949          Requiem for a Dream                         Drama  2000  tt13478804     movie          Requiem for a Dream          Requiem for a Dream       0      2016      \\N             \\N                 Documentary\n",
      "7075     3950                    Tigerland                         Drama  2000   tt0170691     movie                    Tigerland                    Tigerland       0      2000      \\N            101                   Drama,War\n",
      "7076     3950                    Tigerland                         Drama  2000   tt7913478     movie                    Tigerland           Taken by the Tiger       0      2019      \\N             91                 Documentary\n",
      "7077     3950                    Tigerland                         Drama  2000   tt8001180     movie                    Tigerland                    Tigerland       0        \\N      \\N             \\N                       Drama\n",
      "7078     3951             Two Family House                         Drama  2000   tt0202641     movie             Two Family House             Two Family House       0      2000      \\N            108        Comedy,Drama,Romance\n",
      "\n",
      "[7079 rows x 13 columns]\n"
     ]
    }
   ],
   "source": [
    "print(merged_df) # Open in Data Wrangler extension to see the data"
   ]
  },
  {
   "cell_type": "markdown",
   "metadata": {},
   "source": [
    "#### Features selection\n",
    "En faisant une analyse globale des données avec l'extension Data Wrangler sur VS Code,\\\n",
    "je me suis apperçu de plusieurs choses :\n",
    "- Il y a beaucoup d'informations sur un seul film dans IMDB qui ne sont pas présente dans movie lens.\\\n",
    "Je décide donc de ne garder qu'une ligne par film dans mon dataframe de films.\n",
    "- Les données dans endYear était toutes des '\\N'.\n",
    "- Comme il n'y a que des films, la colonne du genre n'est plus utile\n",
    "\n",
    "\n",
    "###### Les colonnes qui vont donc disparaître sont donc :\n",
    "- endYear car nulle \"TV Series end year. ‘\\N’ for all other title types\" depuis la documentation du dataset IMDB.\\\n",
    "En fait ici on ne traite que les films donc c'est logique que cette colonne soit nulle\n",
    "- originalTitle car nulle\n",
    "- primaryTitle car nulle\n",
    "- isAdult car nulle sauf pour 3 films\n",
    "- tconst car ne donne aucune information supplémentaire sur le film \n",
    "\"tconst (string) - alphanumeric unique identifier of the title\" depuis la documentation du dataset IMDB.\n",
    "\n",
    "- Concernant les ratings, je supprime les timestamps car on a pas besoin.\n"
   ]
  },
  {
   "cell_type": "code",
   "execution_count": 9,
   "metadata": {},
   "outputs": [
    {
     "name": "stdout",
     "output_type": "stream",
     "text": [
      " different values in movies df : endYear\n",
      "\\N    2563\n",
      "Name: count, dtype: int64\n",
      "Shape of movie df : (2563, 13)\n",
      "difference between primaryTitle and originalTitle : 2\n"
     ]
    }
   ],
   "source": [
    "distinct_movies = merged_df.drop_duplicates(subset=['MovieID'])\n",
    "# We don't need the titleType column anymore so we can drop it\n",
    "# Print the number of '\\N' values in \"endYear\" column\n",
    "print(f\" different values in movies df : {distinct_movies['endYear'].value_counts()}\")\n",
    "print(f\"Shape of movie df : {distinct_movies.shape}\")\n",
    "# Count the number of different orignial titles and primary titles\n",
    "print(f\"difference between primaryTitle and originalTitle : {distinct_movies['primaryTitle'].nunique() - distinct_movies['originalTitle'].nunique()}\")"
   ]
  },
  {
   "cell_type": "markdown",
   "metadata": {},
   "source": [
    "Je décide aussi de faire une colonne pour les genres de films.\\\n",
    "Plus expressive, et plus simple à manipuler."
   ]
  },
  {
   "cell_type": "code",
   "execution_count": 10,
   "metadata": {},
   "outputs": [
    {
     "name": "stdout",
     "output_type": "stream",
     "text": [
      "   MovieID                        Title  Year runtimeMinutes                                      Genres\n",
      "0        1                    Toy Story  1995             81       Adventure|Animation|Children's|Comedy\n",
      "1        2                      Jumanji  1995            104  Adventure|Children's|Comedy|Family|Fantasy\n",
      "2        3             Grumpier Old Men  1995            101                              Comedy|Romance\n",
      "3        4            Waiting to Exhale  1995            124                        Comedy|Drama|Romance\n",
      "4        5  Father of the Bride Part II  1995            106                       Comedy|Family|Romance\n"
     ]
    }
   ],
   "source": [
    "# Convert both genre columns to sets and merge them\n",
    "merged_df['merged_genres'] = merged_df.apply(lambda row: set(row['Genres'].split('|') + row['genres'].split(',')), axis=1)\n",
    "\n",
    "# Remove any empty strings that might have been introduced\n",
    "merged_df['merged_genres'] = merged_df['merged_genres'].apply(lambda x: set(filter(None, x)))\n",
    "\n",
    "# Convert back to a sorted list and then to a string\n",
    "merged_df['merged_genres'] = merged_df['merged_genres'].apply(lambda x: '|'.join(sorted(x)))\n",
    "\n",
    "# Drop the original genre columns if you no longer need them\n",
    "merged_df = merged_df.drop(columns=['Genres', 'genres'])\n",
    "\n",
    "# Rename the new column to 'Genres' if desired\n",
    "merged_df = merged_df.rename(columns={'merged_genres': 'Genres'})\n",
    "\n",
    "pd.set_option('display.expand_frame_repr', False)  # Prevent line breaks\n",
    "print(merged_df[['MovieID', 'Title', 'Year', 'runtimeMinutes', 'Genres']].head(5))"
   ]
  },
  {
   "cell_type": "code",
   "execution_count": 11,
   "metadata": {},
   "outputs": [],
   "source": [
    "distinct_movies = merged_df.drop_duplicates(subset=['MovieID'])\n",
    "distinct_movies = distinct_movies.drop(columns=['titleType', 'endYear', 'originalTitle', 'primaryTitle', 'isAdult', 'tconst'])\n",
    "# Remove the timestamp column from the ratings dataset\n",
    "ratings_dat_df = ratings_dat_df.drop(columns=['Timestamp'])"
   ]
  },
  {
   "cell_type": "markdown",
   "metadata": {},
   "source": [
    "Toujours dans la partie feature selection, je voulais ajouter/faire tout cela :\n",
    "```\n",
    "- Les colonnes primaryTitle originalTitle et Title sont redondantes\n",
    "    - Enfait les caractéristiques intéressantes & aditionnelles en provenance de IMDB sont les intervenants du film : réalisateur producteur etc.\n",
    "    - Il y a aussi d'autres informations comme le genre du film, mais c'est surtout les intervenants qui rajoutent de l'information ici.\n",
    "    - En effet, je prends l'exemple de ma mère : elle aime bien regarder des films de Johnny Depp alors si on lui recommande un film dans lequel il a joué alors elle sera satisfaite, peu importe le genre.\n",
    "```\n",
    "Mais malheureusement mon pc ne supportait pas les opérations d'explode puis de merge.\n",
    "Dans la suite je ne vais donc pas utiliser le dataset des names"
   ]
  },
  {
   "cell_type": "markdown",
   "metadata": {},
   "source": [
    "2. **Feature Engineering**\n",
    "- Create a user-item interaction matrix for collaborative filtering."
   ]
  },
  {
   "cell_type": "markdown",
   "metadata": {},
   "source": [
    "La user-item interaction matrix est une matrice qui contient les notes des utilisateurs pour les films.\\\n",
    "La matrice est creuse, car un utilisateur ne note pas tous les films.\\\n",
    "Elle est très utile pour pouvoir visualiser l'ensemble des notes des utilisateurs pour les films."
   ]
  },
  {
   "cell_type": "code",
   "execution_count": 12,
   "metadata": {},
   "outputs": [
    {
     "name": "stdout",
     "output_type": "stream",
     "text": [
      "   MovieID             Title  Year startYear runtimeMinutes                                      Genres\n",
      "0        1         Toy Story  1995      1995             81       Adventure|Animation|Children's|Comedy\n",
      "1        2           Jumanji  1995      1995            104  Adventure|Children's|Comedy|Family|Fantasy\n",
      "2        3  Grumpier Old Men  1995      1995            101                              Comedy|Romance\n"
     ]
    }
   ],
   "source": [
    "print(distinct_movies.head(3))"
   ]
  },
  {
   "cell_type": "code",
   "execution_count": 13,
   "metadata": {},
   "outputs": [
    {
     "name": "stdout",
     "output_type": "stream",
     "text": [
      "MovieID  1     2     3     4     5     6     7     8     9     10    12    13    14    15    16    17    18    19    20    21    22    23    24    25    26    27    28    31    33    34    35    36    37    38    39    40    41    42    43    44    45    46    48    49    52    53    55    56    57    61    62    63    65    66    67    69    70    71    72    74    75    76    77    83    84    85    86    87    88    89    92    93    94    95    98    100   101   102   103   104   107   108   110   111   112   113   114   116   118   120   122   123   128   129   130   131   132   133   134   135   136   137   139   145   149   150   151   153   155   156   157   158   159   160   161   162   163   164   167   168   169   170   171   172   173   174   175   176   177   179   180   182   183   184   186   187   189   190   193   194   195   196   198   201   202   203   204   205   206   208   209   210   212   215   216   218   220   222   223   224   225   226   227   228   229   230   232   233   234   235   236   237   240   241   243   244   246   247   248   249   250   252   254   256   257   259   260   261   263   266   267   268   270   271   274   275   276   277   278   279   280   281   282   283   287   288   289   290   292   296   297   298   299   300   301   304   306   307   308   309   311   312   316   319   320   322   325   327   329   330   331   332   333   334   337   338   339   341   342   344   346   347   348   349   351   352   354   356   357   358   359   360   361   365   368   369   370   372   373   374   375   377   378   379   380   381   382   383   384   386   391   393   394   396   398   401   402   404   406   407   408   409   410   413   415   416   417   418   420   421   422   423   424   425   426   427   429   430   431   432   433   434   435   436   437   439   440   441   442   444   445   446   448   449   450   451   452   453   455   456   458   460   461   463   464   465   466   467   470   472   473   474   475   477   478   479   480   481   482   483   484   485   486   487   488   489   490   492   493   494   496   497   498   499   500   501   504   505   506   508   510   513   516   517   520   521   522   523   524   527   529   530   532   534   535   537   538   539   540   541   542   543   544   545   546   547   548   550   553   554   555   557   559   562   563   564   565   566   567   568   569   572   574   576   577   580   586   587   588   589   590   592   594   595   596   597   598   600   605   606   607   608   609   610   611   613   614   618   619   621   624   628   630   631   633   634   637   639   640   642   643   644   645   647   648   650   652   656   657   658   659   660   661   662   663   664   665   666   667   668   669   671   672   673   674   680   682   684   685   687   688   691   692   695   696   697   698   700   701   702   703   705   706   707   709   710   711   712   714   716   719   726   731   732   736   737   742   743   744   746   750   751   754   755   756   757   759   760   762   764   765   766   776   778   779   781   785   786   790   798   800   801   802   803   804   806   808   809   810   813   815   824   826   829   831   832   833   834   835   836   837   838   840   841   843   846   849   850   851   852   853   861   862   863   865   866   867   868   869   870   874   875   877   878   881   884   885   886   887   889   891   892   893   895   896   897   899   901   902   903   904   905   906   908   910   911   912   914   915   916   918   920   921   923   924   925   926   928   929   930   931   933   934   936   937   938   942   944   945   946   947   948   949   951   952   953   954   955   956   958   959   960   961   962   964   968   970   971   973   974   975   977   981   982   985   986   987   988   990   991   993   994   996   997   998   999   1000  1002  1003  1005  1009  1011  1012  1014  1015  1017  1018  1019  1020  1021  1022  1026  1027  1028  1029  1030  1031  1032  1034  1036  1038  1039  1041  1042  1043  1044  1046  1050  1051  1053  1054  1055  1056  1057  1060  1061  1063  1066  1068  1069  1070  1071  1077  1078  1081  1084  1086  1087  1088  1089  1090  1091  1092  1095  1096  1097  1100  1101  1102  1103  1107  1112  1115  1119  1121  1124  1126  1129  1131  1133  1135  1136  1138  1139  1142  1145  1147  1151  1152  1153  1154  1160  1163  1167  1168  1169  1170  1171  1172  1175  1177  1178  1180  1184  1185  1186  1187  1188  1190  1191  1192  1193  1194  1196  1198  1199  1200  1203  1204  1207  1208  1209  1210  1214  1215  1217  1219  1222  1224  1225  1227  1228  1230  1232  1235  1236  1238  1242  1244  1245  1246  1248  1251  1252  1255  1256  1259  1260  1264  1265  1266  1268  1269  1270  1271  1272  1273  1274  1275  1276  1277  1278  1279  1280  1282  1283  1285  1286  1287  1288  1289  1290  1291  1292  1293  1294  1297  1301  1302  1304  1305  1307  1310  1311  1312  1313  1315  1316  1317  1323  1326  1330  1331  1335  1336  1339  1340  1341  1342  1343  1344  1345  1346  1351  1352  1354  1355  1356  1357  1358  1359  1361  1365  1367  1370  1371  1372  1373  1375  1376  1377  1378  1379  1380  1381  1382  1383  1385  1386  1387  1388  1389  1390  1391  1392  1393  1394  1395  1396  1397  1398  1399  1401  1404  1407  1409  1411  1412  1414  1416  1419  1420  1422  1423  1425  1426  1427  1428  1430  1431  1432  1436  1438  1439  1440  1441  1442  1444  1445  1446  1447  1449  1454  1455  1457  1458  1459  1460  1461  1463  1464  1465  1466  1468  1470  1471  1472  1473  1475  1476  1477  1480  1483  1485  1487  1489  1490  1493  1495  1496  1497  1498  1499  1500  1501  1502  1503  1504  1507  1508  1509  1511  1513  1515  1516  1517  1518  1519  1520  1522  1523  1525  1526  1528  1529  1532  1535  1539  1541  1542  1545  1546  1547  1549  1550  1551  1552  1553  1556  1558  1561  1562  1565  1566  1569  1570  1573  1574  1575  1579  1580  1581  1582  1584  1585  1586  1587  1588  1589  1590  1591  1592  1593  1594  1595  1596  1597  1598  1599  1600  1601  1602  1603  1604  1605  1606  1608  1611  1612  1613  1614  1617  1619  1620  1621  1622  1623  1626  1627  1633  1636  1639  1640  1644  1647  1649  1650  1651  1652  1653  1654  1655  1656  1657  1659  1660  1661  1662  1663  1665  1666  1667  1668  1671  1673  1674  1675  1676  1677  1679  1680  1681  1685  1686  1688  1690  1693  1695  1696  1701  1702  1703  1704  1707  1709  1711  1714  1715  1717  1718  1720  1721  1722  1724  1729  1730  1731  1733  1735  1743  1744  1746  1747  1748  1750  1752  1753  1754  1755  1758  1759  1760  1762  1764  1770  1772  1773  1779  1780  1782  1783  1785  1791  1794  1796  1797  1798  1799  1805  1806  1810  1811  1812  1815  1816  1817  1822  1824  1826  1829  1830  1831  1832  1833  1835  1839  1840  1842  1843  1844  1845  1849  1850  1851  1852  1854  1855  1856  1858  1859  1861  1862  1863  1864  1865  1867  1869  1870  1874  1875  1876  1877  1878  1880  1881  1882  1883  1884  1886  1887  1888  1889  1890  1893  1894  1895  1896  1897  1899  1901  1902  1903  1904  1906  1907  1908  1910  1911  1912  1913  1914  1915  1917  1918  1919  1920  1921  1922  1923  1924  1925  1927  1928  1929  1930  1931  1935  1936  1937  1940  1941  1942  1944  1945  1946  1947  1948  1950  1951  1952  1954  1956  1957  1958  1959  1961  1962  1963  1964  1965  1966  1967  1973  1974  1975  1977  1979  1981  1982  1983  1984  1985  1986  1987  1988  1989  1991  1992  1993  1994  1995  1996  1998  2000  2001  2002  2003  2004  2007  2008  2009  2010  2011  2012  2014  2017  2018  2020  2021  2025  2026  2027  2028  2029  2035  2036  2037  2039  2041  2042  2043  2046  2050  2051  2052  2053  2054  2055  2056  2060  2061  2064  2066  2067  2068  2070  2073  2075  2076  2079  2080  2084  2085  2086  2087  2088  2091  2093  2096  2097  2098  2099  2100  2101  2103  2104  2105  2106  2108  2110  2112  2113  2115  2119  2120  2121  2122  2123  2125  2126  2127  2128  2130  2132  2133  2134  2135  2137  2138  2143  2144  2145  2146  2148  2149  2152  2154  2158  2159  2160  2163  2164  2165  2166  2167  2168  2169  2170  2174  2175  2176  2177  2178  2179  2180  2181  2185  2186  2187  2188  2193  2195  2196  2197  2198  2200  2202  2203  2204  2205  2206  2207  2209  2210  2211  2217  2219  2221  2231  2232  2233  2234  2235  2236  2237  2240  2241  2242  2243  2245  2246  2247  2249  2250  2252  2253  2254  2255  2256  2257  2259  2260  2261  2264  2265  2267  2269  2271  2272  2273  2275  2277  2278  2279  2280  2281  2282  2284  2285  2287  2290  2291  2293  2294  2297  2298  2301  2302  2303  2305  2306  2307  2308  2311  2312  2314  2315  2316  2318  2320  2321  2322  2325  2326  2327  2328  2329  2331  2332  2333  2336  2337  2338  2340  2341  2342  2344  2345  2348  2349  2350  2353  2356  2358  2359  2361  2362  2366  2367  2368  2369  2371  2372  2373  2374  2377  2378  2379  2380  2381  2382  2383  2384  2385  2387  2389  2390  2392  2393  2395  2396  2397  2398  2400  2401  2402  2403  2404  2406  2407  2408  2409  2410  2411  2412  2413  2414  2415  2416  2417  2418  2419  2424  2429  2430  2431  2432  2434  2435  2436  2437  2438  2439  2440  2442  2443  2445  2446  2447  2448  2450  2457  2458  2461  2463  2464  2465  2466  2468  2469  2470  2471  2472  2473  2475  2476  2477  2478  2479  2481  2482  2484  2485  2487  2488  2490  2491  2492  2496  2497  2498  2500  2501  2502  2504  2505  2507  2509  2510  2513  2514  2515  2517  2518  2519  2520  2521  2522  2523  2525  2526  2527  2528  2529  2530  2531  2532  2533  2534  2535  2537  2538  2539  2541  2543  2545  2549  2551  2552  2553  2554  2555  2556  2558  2560  2561  2562  2563  2566  2569  2572  2573  2576  2577  2579  2580  2581  2583  2584  2587  2589  2590  2596  2597  2598  2599  2600  2605  2606  2607  2608  2610  2612  2613  2615  2616  2619  2620  2623  2624  2626  2627  2628  2631  2639  2640  2641  2642  2643  2644  2645  2646  2647  2648  2649  2651  2653  2656  2659  2661  2663  2664  2666  2668  2669  2671  2675  2676  2677  2678  2679  2681  2682  2683  2687  2689  2693  2694  2697  2699  2701  2702  2703  2706  2707  2711  2712  2713  2716  2717  2718  2720  2721  2722  2723  2724  2725  2727  2728  2729  2730  2733  2736  2737  2738  2741  2743  2744  2746  2750  2751  2752  2754  2755  2756  2757  2758  2759  2767  2768  2770  2771  2772  2774  2775  2777  2778  2779  2785  2786  2787  2789  2791  2792  2795  2796  2797  2798  2799  2800  2802  2805  2806  2807  2808  2809  2810  2812  2815  2816  2817  2819  2820  2821  2822  2824  2825  2828  2833  2835  2836  2840  2841  2842  2845  2847  2848  2849  2850  2851  2855  2856  2857  2858  2859  2860  2861  2862  2864  2865  2867  2870  2871  2872  2873  2875  2876  2877  2878  2881  2882  2883  2884  2885  2887  2888  2889  2890  2891  2892  2894  2895  2896  2899  2900  2901  2902  2903  2904  2905  2906  2907  2908  2909  2914  2915  2916  2917  2918  2921  2926  2927  2929  2930  2932  2936  2939  2940  2941  2942  2943  2945  2946  2947  2948  2949  2953  2955  2956  2959  2960  2962  2963  2964  2968  2970  2971  2973  2974  2976  2977  2978  2979  2984  2988  2989  2990  2991  2992  2993  2996  2997  2998  2999  3007  3008  3010  3011  3012  3013  3014  3015  3016  3017  3018  3019  3020  3024  3025  3026  3029  3030  3031  3033  3034  3035  3036  3037  3039  3040  3041  3043  3044  3045  3047  3048  3049  3050  3051  3052  3055  3056  3057  3061  3063  3065  3066  3067  3071  3072  3074  3075  3076  3078  3079  3081  3084  3087  3088  3090  3092  3093  3094  3096  3099  3101  3102  3103  3104  3105  3106  3107  3110  3111  3113  3114  3115  3116  3117  3118  3122  3124  3127  3129  3131  3132  3133  3138  3139  3142  3143  3146  3149  3154  3155  3156  3157  3159  3160  3161  3162  3163  3165  3166  3167  3168  3171  3173  3174  3175  3177  3179  3181  3184  3185  3186  3187  3189  3190  3196  3198  3199  3201  3203  3206  3208  3210  3212  3213  3214  3215  3218  3219  3220  3222  3225  3228  3229  3232  3233  3235  3236  3238  3243  3246  3247  3248  3250  3251  3252  3253  3254  3256  3258  3259  3260  3261  3262  3263  3264  3268  3269  3271  3272  3273  3274  3276  3282  3283  3284  3286  3288  3290  3291  3293  3294  3295  3296  3297  3298  3299  3300  3302  3303  3304  3305  3307  3313  3315  3316  3317  3318  3319  3322  3323  3324  3326  3327  3328  3330  3331  3334  3335  3336  3338  3339  3340  3341  3342  3343  3344  3345  3346  3347  3351  3352  3354  3358  3359  3360  3361  3362  3363  3366  3370  3371  3373  3374  3375  3379  3380  3381  3382  3385  3386  3387  3388  3389  3390  3391  3392  3393  3394  3395  3400  3402  3403  3404  3406  3408  3409  3410  3413  3414  3418  3419  3422  3423  3424  3425  3426  3427  3430  3431  3432  3433  3435  3436  3437  3438  3439  3440  3441  3442  3443  3444  3445  3446  3448  3450  3451  3452  3453  3454  3457  3459  3460  3461  3462  3463  3464  3465  3466  3467  3469  3470  3471  3473  3474  3476  3477  3479  3480  3481  3482  3489  3490  3491  3494  3495  3496  3497  3498  3499  3500  3501  3502  3504  3505  3506  3509  3510  3511  3512  3513  3514  3515  3519  3520  3521  3523  3524  3525  3526  3527  3530  3531  3534  3535  3536  3537  3540  3542  3543  3544  3545  3546  3547  3548  3549  3551  3552  3553  3555  3557  3559  3562  3565  3567  3572  3573  3574  3575  3578  3579  3580  3581  3584  3587  3591  3593  3594  3595  3596  3597  3598  3599  3600  3604  3605  3606  3607  3608  3609  3610  3613  3614  3615  3616  3617  3618  3621  3624  3625  3627  3628  3631  3632  3633  3634  3638  3642  3644  3646  3647  3649  3656  3657  3658  3660  3668  3669  3671  3672  3673  3674  3675  3676  3677  3681  3682  3683  3685  3686  3687  3688  3689  3690  3691  3692  3696  3697  3699  3701  3702  3704  3705  3706  3708  3709  3710  3711  3712  3714  3715  3716  3717  3718  3719  3720  3721  3723  3724  3725  3726  3727  3728  3729  3731  3734  3735  3737  3739  3740  3741  3743  3744  3745  3747  3751  3757  3758  3759  3763  3766  3767  3768  3769  3770  3773  3774  3775  3776  3777  3778  3779  3780  3781  3782  3783  3785  3786  3790  3791  3792  3793  3794  3798  3799  3801  3802  3803  3804  3805  3807  3809  3810  3811  3813  3814  3819  3820  3821  3823  3824  3825  3826  3827  3828  3830  3831  3834  3836  3837  3838  3839  3840  3841  3843  3844  3846  3848  3857  3858  3862  3866  3870  3871  3872  3873  3877  3881  3882  3883  3885  3888  3889  3890  3891  3893  3894  3897  3898  3899  3901  3903  3906  3908  3909  3910  3911  3912  3913  3915  3916  3917  3918  3919  3921  3922  3923  3924  3925  3926  3927  3928  3934  3935  3937  3941  3942  3943  3944  3945  3946  3947  3948  3949  3950  3951\n",
      "UserID                                                                                                                                                                                                                                                                                                                                                                                                                                                                                                                                                                                                                                                                                                                                                                                                                                                                                                                                                                                                                                                                                                                                                                                                                                                                                                                                                                                                                                                                                                                                                                                                                                                                                                                                                                                                                                                                                                                                                                                                                                                                                                                                                                                                                                                                                                                                                                                                                                                                                                                                                                                                                                                                                                                                                                                                                                                                                                                                                                                                                                                                                                                                                                                                                                                                                                                                                                                                                                                                                                                                                                                                                                                                                                                                                                                                                                                                                                                                                                                                                                                                                                                                                                                                                                                                                                                                                                                                                                                                                                                                                                                                                                                                                                                                                                                                                                                                                                                                                                                                                                                                                                                                                                                                                                                                                                                                                                                                                                                                                                                                                                                                                                                                                                                                                                                                                                                                                                                                                                                                                                                                                                                                                                                                                                                                                                                                                                                                                                                                                                                                                                                                                                                                                                                                                                                                                                                                                                                                                                                                                                                                                                                                                                                                                                                                                                                                                                                                                                                                                                                                                                                                                                                                                                                                                                                                                                                                                                                                                                                                                                                                                                                                                                                                                                                                                                                                                                                                                                                                                                                                                                                                                                                                                                                                                                                                                                                                                                                                                                                                                                                                                                                                                                                                                                                                                                                                                                                                                                                                                                                                                                                                                                                                                                                                                                                                                                                                                                                                                                                                                                                                                                                                                                                                                                                                                                                                                                                                                                                                                                                                                                                                                                                                                                                                                                                                                                                                                                                                                                                                                                                                                                                                                                                                                                                                                                                                                                                                                                                                                                                                                                                                                                                                                                                                                                                                                                                                                                                                                                                                                                                                                                                                                                                                                                                                                                                                                                                                                                                                                                                                                                                                                                                                                                                                                                                                                                                                                                                                                                                                                                                                                                                                                                                                                                                                                                                                                                                                                                                                                                                                                                                                                                                                                                                                                                                                                                                                                                                                                                                                                                                                                                                                                                                                                                                                                                                                                                                                                                                                                                                                                                                                                                                                                                                                                                                                                                                                                                                                                                                                                                                                                                                                                                                                                                                                                                                                                                         \n",
      "1         5.0   0.0   0.0   0.0   0.0   0.0   0.0   0.0   0.0   0.0   0.0   0.0   0.0   0.0   0.0   0.0   0.0   0.0   0.0   0.0   0.0   0.0   0.0   0.0   0.0   0.0   0.0   0.0   0.0   0.0   0.0   0.0   0.0   0.0   0.0   0.0   0.0   0.0   0.0   0.0   0.0   0.0   5.0   0.0   0.0   0.0   0.0   0.0   0.0   0.0   0.0   0.0   0.0   0.0   0.0   0.0   0.0   0.0   0.0   0.0   0.0   0.0   0.0   0.0   0.0   0.0   0.0   0.0   0.0   0.0   0.0   0.0   0.0   0.0   0.0   0.0   0.0   0.0   0.0   0.0   0.0   0.0   0.0   0.0   0.0   0.0   0.0   0.0   0.0   0.0   0.0   0.0   0.0   0.0   0.0   0.0   0.0   0.0   0.0   0.0   0.0   0.0   0.0   0.0   0.0   5.0   0.0   0.0   0.0   0.0   0.0   0.0   0.0   0.0   0.0   0.0   0.0   0.0   0.0   0.0   0.0   0.0   0.0   0.0   0.0   0.0   0.0   0.0   0.0   0.0   0.0   0.0   0.0   0.0   0.0   0.0   0.0   0.0   0.0   0.0   0.0   0.0   0.0   0.0   0.0   0.0   0.0   0.0   0.0   0.0   0.0   0.0   0.0   0.0   0.0   0.0   0.0   0.0   0.0   0.0   0.0   0.0   0.0   0.0   0.0   0.0   0.0   0.0   0.0   0.0   0.0   0.0   0.0   0.0   0.0   0.0   0.0   0.0   0.0   0.0   0.0   0.0   0.0   0.0   0.0   0.0   4.0   0.0   0.0   0.0   0.0   0.0   0.0   0.0   0.0   0.0   0.0   0.0   0.0   0.0   0.0   0.0   0.0   0.0   0.0   0.0   0.0   0.0   0.0   0.0   0.0   0.0   0.0   0.0   0.0   0.0   0.0   0.0   0.0   0.0   0.0   0.0   0.0   0.0   0.0   0.0   0.0   0.0   0.0   0.0   0.0   0.0   0.0   0.0   0.0   0.0   0.0   0.0   0.0   0.0   0.0   0.0   0.0   0.0   0.0   0.0   0.0   0.0   0.0   0.0   0.0   0.0   0.0   0.0   0.0   0.0   0.0   0.0   0.0   0.0   0.0   0.0   0.0   0.0   0.0   0.0   0.0   0.0   0.0   0.0   0.0   0.0   0.0   0.0   0.0   0.0   0.0   0.0   0.0   0.0   0.0   0.0   0.0   0.0   0.0   0.0   0.0   0.0   0.0   0.0   0.0   0.0   0.0   0.0   0.0   0.0   0.0   0.0   0.0   0.0   0.0   0.0   0.0   0.0   0.0   0.0   0.0   0.0   0.0   0.0   0.0   0.0   0.0   0.0   0.0   0.0   0.0   0.0   0.0   0.0   0.0   0.0   0.0   0.0   0.0   0.0   0.0   0.0   0.0   0.0   0.0   0.0   0.0   0.0   0.0   0.0   0.0   0.0   0.0   0.0   0.0   0.0   0.0   0.0   0.0   0.0   0.0   0.0   0.0   0.0   0.0   0.0   0.0   0.0   0.0   0.0   0.0   0.0   0.0   0.0   0.0   0.0   0.0   0.0   0.0   0.0   0.0   0.0   0.0   5.0   0.0   0.0   0.0   0.0   0.0   0.0   0.0   0.0   0.0   0.0   0.0   0.0   0.0   0.0   0.0   0.0   0.0   0.0   0.0   0.0   0.0   0.0   0.0   0.0   0.0   0.0   0.0   0.0   0.0   0.0   0.0   0.0   0.0   0.0   0.0   0.0   0.0   0.0   4.0   0.0   0.0   0.0   4.0   5.0   0.0   0.0   0.0   0.0   0.0   0.0   0.0   4.0   0.0   0.0   0.0   0.0   0.0   0.0   0.0   0.0   0.0   0.0   0.0   0.0   0.0   0.0   0.0   0.0   0.0   0.0   0.0   0.0   0.0   0.0   0.0   0.0   0.0   0.0   0.0   0.0   0.0   0.0   3.0   0.0   0.0   0.0   0.0   0.0   0.0   0.0   0.0   0.0   0.0   0.0   0.0   0.0   0.0   0.0   0.0   0.0   0.0   0.0   0.0   0.0   0.0   0.0   0.0   0.0   0.0   0.0   0.0   0.0   0.0   0.0   0.0   0.0   0.0   0.0   0.0   0.0   0.0   0.0   0.0   0.0   0.0   0.0   0.0   0.0   0.0   0.0   0.0   0.0   0.0   0.0   0.0   0.0   0.0   0.0   0.0   0.0   0.0   0.0   0.0   0.0   0.0   0.0   0.0   0.0   0.0   0.0   0.0   0.0   0.0   0.0   0.0   0.0   0.0   0.0   0.0   0.0   0.0   0.0   0.0   0.0   0.0   0.0   0.0   0.0   0.0   0.0   0.0   0.0   0.0   0.0   0.0   0.0   0.0   0.0   0.0   0.0   0.0   0.0   0.0   0.0   0.0   0.0   0.0   0.0   0.0   0.0   0.0   0.0   0.0   0.0   0.0   0.0   0.0   0.0   0.0   0.0   0.0   0.0   0.0   0.0   0.0   0.0   0.0   0.0   0.0   0.0   0.0   0.0   0.0   0.0   0.0   0.0   0.0   3.0   0.0   0.0   0.0   0.0   0.0   0.0   0.0   0.0   0.0   0.0   0.0   0.0   0.0   0.0   0.0   0.0   0.0   4.0   0.0   0.0   0.0   0.0   0.0   0.0   0.0   0.0   0.0   0.0   0.0   0.0   0.0   0.0   0.0   0.0   0.0   0.0   0.0   0.0   0.0   0.0   0.0   0.0   0.0   0.0   0.0   0.0   0.0   0.0   0.0   0.0   0.0   0.0   0.0   0.0   0.0   0.0   0.0   0.0   0.0   0.0   0.0   0.0   0.0   0.0   0.0   0.0   0.0   0.0   0.0   0.0   0.0   0.0   5.0   0.0   0.0   5.0   5.0   0.0   0.0   0.0   0.0   0.0   0.0   0.0   0.0   0.0   0.0   0.0   0.0   0.0   0.0   0.0   0.0   0.0   0.0   0.0   0.0   0.0   0.0   0.0   0.0   0.0   0.0   0.0   0.0   0.0   0.0   0.0   0.0   0.0   0.0   0.0   0.0   0.0   0.0   0.0   0.0   4.0   0.0   0.0   0.0   0.0   0.0   0.0   0.0   0.0   0.0   0.0   0.0   0.0   0.0   0.0   0.0   0.0   0.0   0.0   0.0   0.0   0.0   0.0   0.0   0.0   0.0   0.0   0.0   0.0   0.0   0.0   0.0   0.0   0.0   0.0   0.0   0.0   0.0   0.0   0.0   0.0   0.0   0.0   0.0   0.0   0.0   5.0   0.0   0.0   0.0   0.0   0.0   0.0   0.0   4.0   0.0   0.0   0.0   0.0   0.0   0.0   0.0   0.0   0.0   0.0   0.0   0.0   0.0   0.0   0.0   0.0   0.0   0.0   0.0   0.0   4.0   0.0   0.0   0.0   0.0   0.0   0.0   0.0   0.0   0.0   0.0   0.0   0.0   5.0   0.0   0.0   0.0   0.0   0.0   0.0   0.0   0.0   0.0   0.0   0.0   0.0   0.0   0.0   5.0   0.0   0.0   0.0   0.0   0.0   0.0   0.0   0.0   0.0   0.0   0.0   0.0   0.0   0.0   0.0   0.0   0.0   0.0   0.0   0.0   0.0   0.0   0.0   0.0   0.0   0.0   0.0   0.0   0.0   0.0   0.0   0.0   0.0   0.0   0.0   0.0   0.0   0.0   0.0   0.0   0.0   0.0   0.0   0.0   0.0   0.0   0.0   0.0   0.0   0.0   0.0   0.0   0.0   0.0   0.0   0.0   0.0   0.0   0.0   0.0   0.0   0.0   0.0   0.0   0.0   0.0   0.0   0.0   0.0   0.0   0.0   0.0   0.0   0.0   0.0   0.0   0.0   0.0   0.0   0.0   0.0   0.0   0.0   0.0   0.0   0.0   0.0   0.0   0.0   0.0   0.0   0.0   0.0   0.0   0.0   0.0   0.0   0.0   0.0   0.0   0.0   0.0   0.0   0.0   0.0   0.0   0.0   0.0   0.0   0.0   0.0   0.0   0.0   0.0   0.0   0.0   0.0   0.0   0.0   0.0   0.0   0.0   0.0   0.0   0.0   0.0   0.0   0.0   0.0   0.0   0.0   0.0   0.0   0.0   0.0   0.0   0.0   0.0   0.0   0.0   0.0   0.0   0.0   0.0   0.0   0.0   0.0   0.0   0.0   0.0   0.0   0.0   0.0   0.0   0.0   0.0   0.0   0.0   0.0   0.0   0.0   4.0   0.0   0.0   0.0   0.0   0.0   0.0   0.0   0.0   0.0   0.0   0.0   0.0   4.0   0.0   0.0   0.0   0.0   0.0   0.0   0.0   0.0   0.0   0.0   0.0   0.0   0.0   0.0   0.0   0.0   0.0   0.0   0.0   0.0   0.0   0.0   0.0   0.0   0.0   0.0   0.0   0.0   0.0   0.0   0.0   0.0   0.0   0.0   0.0   0.0   0.0   0.0   0.0   0.0   0.0   0.0   0.0   0.0   0.0   0.0   0.0   0.0   0.0   0.0   0.0   0.0   0.0   0.0   0.0   0.0   0.0   0.0   0.0   0.0   0.0   0.0   0.0   0.0   0.0   0.0   0.0   0.0   0.0   0.0   0.0   0.0   0.0   0.0   0.0   0.0   0.0   0.0   0.0   0.0   0.0   0.0   0.0   0.0   0.0   0.0   0.0   0.0   0.0   0.0   0.0   0.0   0.0   0.0   0.0   0.0   0.0   4.0   0.0   0.0   0.0   0.0   0.0   0.0   0.0   0.0   0.0   0.0   0.0   0.0   0.0   0.0   0.0   0.0   0.0   0.0   0.0   0.0   0.0   0.0   0.0   0.0   0.0   0.0   0.0   0.0   0.0   0.0   0.0   0.0   0.0   0.0   0.0   0.0   0.0   0.0   0.0   0.0   0.0   0.0   0.0   0.0   0.0   0.0   0.0   0.0   0.0   0.0   0.0   0.0   0.0   0.0   0.0   0.0   0.0   0.0   0.0   0.0   0.0   0.0   0.0   0.0   0.0   0.0   0.0   0.0   0.0   0.0   0.0   0.0   0.0   0.0   0.0   0.0   0.0   0.0   0.0   0.0   0.0   0.0   0.0   0.0   0.0   0.0   0.0   0.0   0.0   0.0   0.0   0.0   0.0   0.0   0.0   0.0   0.0   0.0   0.0   0.0   0.0   0.0   4.0   0.0   0.0   0.0   0.0   0.0   0.0   0.0   0.0   0.0   0.0   0.0   0.0   0.0   0.0   0.0   0.0   0.0   0.0   0.0   0.0   0.0   0.0   0.0   0.0   0.0   0.0   0.0   0.0   0.0   0.0   0.0   0.0   0.0   0.0   0.0   0.0   0.0   0.0   0.0   0.0   5.0   4.0   0.0   0.0   0.0   0.0   0.0   0.0   0.0   0.0   0.0   0.0   0.0   0.0   0.0   0.0   0.0   0.0   0.0   0.0   0.0   0.0   0.0   0.0   0.0   0.0   0.0   0.0   0.0   0.0   0.0   0.0   0.0   0.0   0.0   0.0   0.0   0.0   0.0   0.0   0.0   4.0   0.0   0.0   0.0   0.0   0.0   5.0   0.0   0.0   0.0   0.0   0.0   0.0   0.0   0.0   0.0   0.0   0.0   0.0   0.0   0.0   0.0   0.0   0.0   0.0   0.0   0.0   0.0   0.0   0.0   0.0   0.0   0.0   0.0   0.0   0.0   0.0   0.0   0.0   0.0   0.0   0.0   0.0   0.0   0.0   0.0   0.0   0.0   0.0   0.0   0.0   0.0   0.0   0.0   0.0   0.0   0.0   0.0   0.0   0.0   0.0   0.0   0.0   0.0   0.0   0.0   0.0   0.0   0.0   0.0   0.0   0.0   0.0   0.0   0.0   0.0   0.0   0.0   0.0   0.0   0.0   0.0   0.0   0.0   0.0   0.0   0.0   0.0   0.0   0.0   0.0   0.0   0.0   0.0   0.0   0.0   0.0   0.0   0.0   0.0   0.0   0.0   0.0   0.0   0.0   0.0   0.0   0.0   0.0   0.0   0.0   0.0   0.0   0.0   0.0   0.0   0.0   0.0   0.0   0.0   0.0   0.0   0.0   0.0   0.0   0.0   0.0   0.0   0.0   0.0   0.0   0.0   0.0   0.0   0.0   0.0   0.0   0.0   0.0   0.0   0.0   0.0   0.0   0.0   0.0   0.0   0.0   0.0   0.0   0.0   0.0   0.0   0.0   0.0   0.0   0.0   0.0   0.0   0.0   0.0   0.0   0.0   0.0   0.0   0.0   0.0   0.0   4.0   0.0   0.0   0.0   0.0   0.0   0.0   0.0   0.0   0.0   0.0   0.0   0.0   0.0   0.0   0.0   0.0   3.0   0.0   0.0   0.0   0.0   0.0   0.0   0.0   0.0   0.0   0.0   0.0   0.0   3.0   0.0   0.0   0.0   0.0   0.0   0.0   0.0   0.0   0.0   0.0   0.0   0.0   0.0   0.0   0.0   0.0   0.0   0.0   0.0   0.0   0.0   0.0   0.0   0.0   0.0   0.0   0.0   0.0   0.0   0.0   0.0   0.0   0.0   0.0   0.0   0.0   0.0   0.0   4.0   0.0   0.0   0.0   0.0   0.0   0.0   0.0   0.0   0.0   0.0   0.0   0.0   0.0   0.0   0.0   0.0   0.0   0.0   0.0   0.0   0.0   0.0   0.0   0.0   0.0   0.0   0.0   0.0   0.0   0.0   0.0   0.0   0.0   0.0   0.0   0.0   0.0   0.0   0.0   0.0   0.0   0.0   0.0   0.0   0.0   0.0   0.0   0.0   0.0   0.0   0.0   0.0   0.0   0.0   0.0   0.0   0.0   0.0   0.0   0.0   0.0   0.0   0.0   0.0   0.0   0.0   0.0   0.0   0.0   0.0   0.0   0.0   0.0   0.0   0.0   0.0   0.0   0.0   0.0   0.0   0.0   0.0   0.0   0.0   0.0   0.0   0.0   0.0   0.0   0.0   0.0   0.0   0.0   0.0   0.0   0.0   0.0   0.0   0.0   0.0   0.0   0.0   0.0   0.0   0.0   0.0   0.0   0.0   0.0   0.0   0.0   0.0   0.0   0.0   0.0   0.0   0.0   0.0   0.0   0.0   0.0   0.0   0.0   0.0   0.0   0.0   0.0   0.0   0.0   0.0   0.0   0.0   0.0   0.0   0.0   0.0   0.0   0.0   0.0   0.0   0.0   0.0   0.0   0.0   0.0   0.0   0.0   0.0   0.0   0.0   0.0   0.0   0.0   0.0   0.0   0.0   0.0   0.0   0.0   0.0   0.0   0.0   0.0   0.0   0.0   0.0   0.0   0.0   0.0   0.0   0.0   0.0   0.0   0.0   0.0   0.0   0.0   0.0   0.0   0.0   0.0   3.0   0.0   0.0   0.0   0.0   0.0   0.0   0.0   0.0   0.0   0.0   0.0   0.0   0.0   0.0   0.0   0.0   0.0   0.0   0.0   0.0   0.0   0.0   0.0   0.0   0.0   0.0   0.0   0.0   0.0   0.0   0.0   0.0   0.0   0.0   0.0   0.0   0.0   0.0   0.0   0.0   0.0   0.0   0.0   0.0   0.0   0.0   0.0   0.0   0.0   0.0   0.0   0.0   0.0   0.0   0.0   0.0   0.0   4.0   0.0   0.0   0.0   4.0   0.0   0.0   0.0   0.0   0.0   0.0   0.0   0.0   0.0   0.0   0.0   0.0   0.0   0.0   0.0   0.0   0.0   0.0   0.0   0.0   0.0   0.0   0.0   0.0   0.0   0.0   0.0   0.0   0.0   0.0   0.0   0.0   0.0   0.0   0.0   0.0   0.0   0.0   0.0   0.0   0.0   0.0   0.0   0.0   0.0   0.0   0.0   0.0   0.0   0.0   0.0   0.0   0.0   0.0   0.0   0.0   0.0   0.0   0.0   0.0   0.0   0.0   0.0   0.0   0.0   0.0   0.0   0.0   0.0   0.0   0.0   0.0   0.0   0.0   0.0   0.0   0.0   0.0   0.0   0.0   0.0   4.0   0.0   0.0   0.0   0.0   0.0   0.0   0.0   0.0   0.0   0.0   0.0   0.0   0.0   0.0   0.0   0.0   0.0   0.0   0.0   0.0   0.0   0.0   0.0   0.0   0.0   0.0   0.0   0.0   0.0   0.0   0.0   0.0   0.0   0.0   0.0   0.0   0.0   0.0   0.0   0.0   0.0   0.0   0.0   0.0   0.0   0.0   0.0   0.0   0.0   0.0   0.0   0.0   0.0   0.0   0.0   0.0   0.0   0.0   0.0   0.0   0.0   0.0   0.0   0.0   0.0   0.0   0.0   0.0   0.0   0.0   0.0   0.0   0.0   0.0   0.0   0.0   0.0   0.0   0.0   0.0   0.0   0.0   0.0   0.0   0.0   0.0   0.0   0.0   0.0   0.0   0.0   0.0   0.0   0.0   0.0   0.0   0.0   0.0   0.0   0.0   0.0   0.0   0.0   0.0   0.0   0.0   0.0   0.0   0.0   0.0   5.0   0.0   0.0   0.0   0.0   0.0   4.0   0.0   0.0   0.0   0.0   0.0   0.0   0.0   0.0   0.0   0.0   0.0   0.0   0.0   0.0   0.0   0.0   0.0   0.0   0.0   0.0   0.0   0.0   0.0   0.0   0.0   0.0   0.0   0.0   0.0   0.0   0.0   0.0   0.0   0.0   0.0   0.0   0.0   0.0   0.0   4.0   0.0   0.0   0.0   0.0   0.0   0.0   0.0   0.0   0.0   0.0   0.0   0.0   0.0   0.0   0.0   0.0   0.0   0.0   0.0   0.0   0.0   0.0   0.0   0.0   0.0   0.0   0.0   0.0   0.0   0.0   0.0   0.0   0.0   0.0   0.0   0.0   0.0   0.0   0.0   0.0   0.0   0.0   0.0   0.0   0.0   0.0   0.0   0.0   0.0   0.0   0.0   0.0   0.0   0.0   0.0   0.0   0.0   0.0   0.0   0.0   0.0   0.0   0.0   0.0   0.0   0.0   0.0   0.0   0.0   0.0   0.0   0.0   0.0   0.0   0.0   0.0   0.0   0.0   0.0   0.0   0.0   0.0   0.0   0.0   0.0   0.0   0.0   0.0   0.0   0.0   0.0   0.0   0.0   0.0   0.0   0.0   0.0   0.0   0.0   0.0   0.0   0.0   0.0   0.0   0.0   0.0   0.0   0.0   0.0   0.0   0.0   0.0   0.0   0.0   0.0   0.0   0.0   0.0   0.0   0.0   0.0   0.0   0.0   0.0   0.0   0.0   0.0   0.0   0.0   0.0   0.0   0.0   0.0   4.0   0.0   0.0   0.0   0.0   0.0   0.0   0.0   0.0   0.0   0.0   0.0   0.0   0.0   0.0   0.0   0.0   0.0   0.0   0.0   0.0   0.0   0.0   0.0   0.0   0.0   0.0   0.0   0.0   0.0   0.0   0.0   0.0   0.0   0.0   0.0   0.0   0.0   0.0   0.0   0.0   0.0   0.0   0.0   0.0   0.0   0.0   0.0   0.0   0.0   0.0   0.0   0.0   0.0   0.0   0.0   0.0   0.0   0.0   0.0   0.0   0.0   0.0   0.0   0.0   0.0   0.0   0.0   0.0   0.0   0.0   0.0   0.0   0.0   0.0   0.0   0.0   0.0   0.0   0.0   0.0   0.0   0.0   0.0   0.0   0.0   0.0   0.0   0.0   0.0   0.0   0.0   0.0   0.0   0.0   0.0   0.0   0.0   0.0   0.0   0.0   0.0   0.0   0.0   0.0   0.0   0.0   0.0   0.0   0.0   0.0   0.0   0.0   0.0   0.0   0.0   0.0   0.0   0.0   0.0   0.0   0.0   0.0   0.0   0.0   0.0   0.0   0.0   0.0   0.0   0.0   0.0   0.0   0.0   0.0   0.0   0.0   0.0   0.0   0.0   0.0   0.0   0.0   0.0   0.0   0.0   0.0   0.0   0.0   0.0   0.0   0.0   0.0   0.0   0.0   0.0   0.0   0.0   0.0   0.0   0.0   0.0   0.0   0.0   0.0   0.0   0.0   0.0   0.0   0.0   0.0   0.0   0.0   0.0   0.0   0.0   0.0   0.0   0.0   0.0   0.0   0.0   0.0   0.0   0.0   0.0   0.0   0.0   0.0   0.0   0.0   0.0   0.0   0.0   0.0   0.0   0.0   0.0   0.0   0.0   0.0   0.0   0.0   0.0   0.0   0.0   0.0   0.0   0.0   0.0   0.0   0.0   0.0   0.0   0.0   0.0   0.0   0.0   0.0   0.0   0.0   0.0   0.0   0.0   0.0   0.0   0.0   0.0   0.0   0.0   0.0   0.0   0.0   0.0   0.0   0.0   0.0   0.0   0.0   0.0   0.0   0.0   0.0   0.0   0.0   0.0   0.0   0.0   0.0   0.0   0.0   0.0   0.0   0.0   0.0   0.0   0.0   0.0   0.0   0.0   0.0   0.0   0.0   0.0   0.0   0.0   0.0   0.0   0.0   0.0   0.0   0.0   0.0   0.0   0.0   0.0   0.0   0.0   0.0   0.0   0.0   0.0   0.0   0.0   0.0   0.0   0.0   0.0   0.0   0.0   0.0   0.0   0.0   0.0   0.0   0.0   0.0   0.0   0.0   0.0   0.0   0.0   0.0   0.0   0.0   0.0   0.0   0.0   0.0   0.0   0.0   0.0   0.0   0.0   0.0   0.0   0.0   0.0   0.0   0.0   0.0   0.0   0.0   0.0   0.0   0.0   0.0   0.0   0.0   0.0   0.0   0.0   0.0   0.0   0.0   0.0   0.0   0.0   0.0   0.0   0.0\n",
      "2         0.0   0.0   0.0   0.0   0.0   0.0   0.0   0.0   0.0   0.0   0.0   0.0   0.0   0.0   0.0   0.0   0.0   0.0   0.0   1.0   0.0   0.0   0.0   0.0   0.0   0.0   0.0   0.0   0.0   0.0   0.0   0.0   0.0   0.0   0.0   0.0   0.0   0.0   0.0   0.0   0.0   0.0   0.0   0.0   0.0   0.0   0.0   0.0   0.0   0.0   0.0   0.0   0.0   0.0   0.0   0.0   0.0   0.0   0.0   0.0   0.0   0.0   0.0   0.0   0.0   0.0   0.0   0.0   0.0   0.0   0.0   0.0   0.0   2.0   0.0   0.0   0.0   0.0   0.0   0.0   0.0   0.0   5.0   0.0   0.0   0.0   0.0   0.0   0.0   0.0   0.0   0.0   0.0   0.0   0.0   0.0   0.0   0.0   0.0   0.0   0.0   0.0   0.0   0.0   0.0   0.0   0.0   0.0   0.0   0.0   0.0   0.0   0.0   0.0   0.0   0.0   4.0   0.0   0.0   0.0   0.0   0.0   0.0   0.0   0.0   0.0   0.0   0.0   0.0   0.0   0.0   0.0   0.0   0.0   0.0   0.0   0.0   0.0   0.0   0.0   0.0   0.0   0.0   0.0   0.0   0.0   0.0   0.0   0.0   0.0   0.0   0.0   0.0   0.0   0.0   0.0   0.0   0.0   0.0   0.0   0.0   0.0   0.0   0.0   0.0   0.0   0.0   0.0   0.0   3.0   0.0   0.0   0.0   0.0   0.0   0.0   0.0   0.0   0.0   0.0   0.0   0.0   0.0   0.0   0.0   0.0   0.0   0.0   0.0   0.0   0.0   0.0   0.0   0.0   0.0   0.0   0.0   0.0   0.0   0.0   0.0   0.0   0.0   0.0   0.0   0.0   0.0   0.0   3.0   0.0   0.0   0.0   0.0   0.0   0.0   0.0   0.0   0.0   0.0   0.0   0.0   0.0   0.0   0.0   0.0   0.0   0.0   0.0   0.0   0.0   0.0   0.0   0.0   0.0   0.0   0.0   0.0   0.0   0.0   0.0   0.0   0.0   0.0   4.0   0.0   0.0   0.0   5.0   0.0   0.0   0.0   0.0   0.0   0.0   4.0   0.0   0.0   0.0   0.0   0.0   0.0   0.0   0.0   0.0   5.0   0.0   0.0   0.0   0.0   0.0   0.0   0.0   0.0   0.0   0.0   0.0   0.0   0.0   0.0   0.0   0.0   0.0   0.0   0.0   0.0   0.0   0.0   0.0   0.0   0.0   0.0   0.0   0.0   0.0   0.0   0.0   0.0   0.0   0.0   0.0   0.0   2.0   0.0   0.0   0.0   0.0   0.0   0.0   3.0   0.0   0.0   0.0   0.0   0.0   0.0   0.0   0.0   0.0   0.0   0.0   0.0   0.0   0.0   0.0   0.0   0.0   0.0   0.0   0.0   0.0   0.0   0.0   0.0   0.0   0.0   0.0   5.0   0.0   0.0   0.0   0.0   0.0   0.0   0.0   0.0   0.0   0.0   0.0   0.0   0.0   0.0   0.0   3.0   0.0   0.0   0.0   0.0   0.0   0.0   0.0   0.0   0.0   0.0   0.0   0.0   0.0   0.0   0.0   0.0   0.0   0.0   0.0   0.0   0.0   0.0   0.0   0.0   0.0   0.0   0.0   0.0   0.0   0.0   0.0   0.0   0.0   0.0   0.0   0.0   0.0   0.0   0.0   0.0   0.0   0.0   0.0   0.0   0.0   0.0   0.0   0.0   0.0   0.0   0.0   0.0   0.0   0.0   0.0   0.0   4.0   5.0   0.0   0.0   0.0   0.0   0.0   0.0   0.0   0.0   0.0   0.0   0.0   0.0   0.0   0.0   0.0   0.0   0.0   0.0   0.0   0.0   0.0   0.0   0.0   0.0   0.0   0.0   0.0   0.0   0.0   0.0   0.0   0.0   3.0   4.0   0.0   0.0   0.0   0.0   0.0   0.0   0.0   0.0   0.0   0.0   0.0   0.0   0.0   0.0   0.0   0.0   0.0   0.0   0.0   0.0   0.0   0.0   0.0   0.0   0.0   0.0   0.0   0.0   0.0   0.0   0.0   0.0   0.0   0.0   0.0   0.0   0.0   0.0   0.0   0.0   0.0   0.0   0.0   0.0   0.0   0.0   0.0   0.0   0.0   4.0   0.0   0.0   0.0   0.0   0.0   0.0   0.0   0.0   0.0   0.0   0.0   0.0   0.0   0.0   0.0   0.0   0.0   0.0   0.0   0.0   0.0   0.0   0.0   0.0   0.0   0.0   0.0   0.0   0.0   0.0   0.0   0.0   0.0   0.0   0.0   0.0   0.0   0.0   0.0   0.0   0.0   0.0   0.0   0.0   0.0   0.0   0.0   0.0   0.0   0.0   0.0   0.0   0.0   0.0   0.0   0.0   0.0   0.0   0.0   0.0   0.0   0.0   0.0   0.0   0.0   0.0   0.0   0.0   0.0   0.0   0.0   0.0   0.0   0.0   0.0   0.0   0.0   0.0   0.0   0.0   0.0   0.0   0.0   2.0   0.0   0.0   0.0   0.0   0.0   0.0   0.0   0.0   0.0   0.0   0.0   0.0   5.0   0.0   0.0   0.0   0.0   0.0   0.0   0.0   0.0   0.0   0.0   0.0   0.0   0.0   0.0   0.0   0.0   0.0   0.0   0.0   0.0   0.0   0.0   0.0   0.0   0.0   0.0   0.0   0.0   0.0   0.0   0.0   0.0   0.0   0.0   0.0   0.0   0.0   0.0   0.0   0.0   0.0   4.0   0.0   0.0   0.0   0.0   0.0   0.0   0.0   0.0   0.0   0.0   0.0   0.0   0.0   0.0   0.0   0.0   0.0   0.0   0.0   0.0   0.0   0.0   0.0   0.0   0.0   0.0   0.0   0.0   0.0   0.0   0.0   0.0   0.0   0.0   0.0   0.0   0.0   0.0   0.0   0.0   0.0   0.0   0.0   0.0   0.0   0.0   0.0   0.0   0.0   0.0   0.0   0.0   0.0   0.0   0.0   0.0   0.0   0.0   0.0   0.0   0.0   3.0   0.0   0.0   0.0   0.0   2.0   0.0   0.0   0.0   4.0   0.0   0.0   0.0   0.0   3.0   0.0   0.0   0.0   0.0   0.0   5.0   0.0   0.0   0.0   0.0   0.0   0.0   0.0   0.0   0.0   0.0   0.0   0.0   0.0   0.0   0.0   0.0   0.0   0.0   0.0   0.0   0.0   0.0   0.0   0.0   0.0   0.0   0.0   0.0   0.0   0.0   0.0   4.0   0.0   0.0   0.0   5.0   0.0   5.0   4.0   0.0   0.0   0.0   0.0   4.0   0.0   0.0   4.0   0.0   0.0   3.0   0.0   0.0   0.0   5.0   0.0   0.0   0.0   0.0   0.0   0.0   0.0   0.0   3.0   2.0   5.0   0.0   0.0   0.0   0.0   0.0   5.0   0.0   0.0   3.0   0.0   0.0   0.0   0.0   0.0   0.0   0.0   0.0   0.0   0.0   0.0   0.0   0.0   0.0   0.0   0.0   0.0   0.0   0.0   0.0   0.0   0.0   0.0   0.0   5.0   0.0   0.0   0.0   0.0   0.0   0.0   0.0   0.0   0.0   0.0   0.0   0.0   0.0   0.0   0.0   0.0   0.0   0.0   0.0   0.0   0.0   0.0   0.0   0.0   0.0   0.0   0.0   0.0   0.0   0.0   0.0   0.0   0.0   5.0   0.0   0.0   0.0   0.0   0.0   5.0   0.0   3.0   0.0   0.0   0.0   0.0   0.0   0.0   0.0   0.0   0.0   0.0   3.0   0.0   0.0   0.0   0.0   0.0   0.0   0.0   0.0   0.0   0.0   0.0   0.0   0.0   0.0   0.0   0.0   0.0   0.0   0.0   0.0   0.0   0.0   0.0   0.0   0.0   0.0   0.0   0.0   0.0   0.0   0.0   0.0   0.0   0.0   0.0   0.0   0.0   0.0   4.0   0.0   0.0   0.0   0.0   0.0   0.0   0.0   0.0   0.0   0.0   0.0   0.0   0.0   0.0   0.0   0.0   0.0   0.0   0.0   0.0   0.0   0.0   0.0   0.0   0.0   0.0   0.0   0.0   0.0   0.0   0.0   0.0   0.0   0.0   0.0   0.0   0.0   0.0   0.0   0.0   0.0   0.0   0.0   0.0   0.0   0.0   0.0   0.0   0.0   0.0   0.0   0.0   0.0   0.0   0.0   0.0   0.0   0.0   0.0   0.0   0.0   0.0   0.0   0.0   0.0   0.0   0.0   0.0   0.0   3.0   0.0   0.0   0.0   0.0   0.0   0.0   0.0   0.0   0.0   0.0   0.0   0.0   0.0   0.0   0.0   0.0   0.0   0.0   0.0   0.0   0.0   0.0   0.0   0.0   0.0   0.0   0.0   0.0   0.0   3.0   0.0   0.0   0.0   0.0   0.0   0.0   0.0   0.0   0.0   0.0   0.0   0.0   0.0   0.0   0.0   0.0   0.0   0.0   0.0   0.0   0.0   0.0   0.0   0.0   0.0   0.0   0.0   0.0   0.0   0.0   0.0   0.0   0.0   0.0   0.0   0.0   0.0   0.0   0.0   0.0   0.0   0.0   0.0   0.0   0.0   0.0   0.0   0.0   0.0   0.0   0.0   0.0   0.0   0.0   0.0   0.0   0.0   0.0   3.0   0.0   0.0   0.0   0.0   0.0   0.0   0.0   0.0   0.0   0.0   0.0   0.0   0.0   0.0   0.0   0.0   0.0   0.0   0.0   0.0   0.0   0.0   0.0   0.0   0.0   0.0   0.0   0.0   0.0   0.0   0.0   0.0   0.0   0.0   0.0   0.0   0.0   0.0   0.0   0.0   0.0   0.0   0.0   0.0   0.0   0.0   0.0   0.0   0.0   0.0   0.0   0.0   0.0   0.0   0.0   0.0   0.0   0.0   0.0   0.0   0.0   0.0   0.0   0.0   0.0   0.0   0.0   0.0   0.0   0.0   0.0   0.0   0.0   0.0   0.0   0.0   0.0   0.0   0.0   0.0   0.0   0.0   0.0   0.0   0.0   0.0   0.0   0.0   0.0   0.0   0.0   0.0   0.0   0.0   0.0   0.0   0.0   0.0   0.0   0.0   0.0   0.0   0.0   0.0   0.0   0.0   0.0   0.0   0.0   0.0   0.0   0.0   0.0   0.0   0.0   0.0   0.0   0.0   0.0   0.0   0.0   0.0   0.0   0.0   0.0   0.0   3.0   0.0   0.0   0.0   0.0   0.0   0.0   0.0   0.0   0.0   0.0   0.0   0.0   0.0   0.0   0.0   0.0   0.0   0.0   0.0   0.0   5.0   0.0   0.0   0.0   0.0   0.0   0.0   5.0   0.0   5.0   0.0   0.0   0.0   5.0   0.0   0.0   0.0   0.0   0.0   0.0   0.0   0.0   0.0   0.0   0.0   0.0   0.0   0.0   0.0   0.0   0.0   0.0   0.0   0.0   0.0   0.0   0.0   0.0   0.0   0.0   0.0   0.0   5.0   0.0   0.0   0.0   0.0   0.0   0.0   0.0   0.0   0.0   0.0   0.0   0.0   0.0   0.0   0.0   0.0   4.0   0.0   0.0   0.0   0.0   0.0   0.0   0.0   0.0   0.0   0.0   0.0   0.0   0.0   0.0   0.0   0.0   0.0   0.0   0.0   0.0   5.0   0.0   0.0   0.0   0.0   0.0   0.0   0.0   0.0   0.0   0.0   0.0   0.0   0.0   0.0   0.0   0.0   0.0   0.0   0.0   0.0   0.0   0.0   0.0   0.0   0.0   0.0   0.0   0.0   0.0   0.0   0.0   0.0   0.0   0.0   0.0   3.0   0.0   0.0   0.0   0.0   0.0   0.0   0.0   0.0   0.0   0.0   0.0   0.0   0.0   0.0   0.0   0.0   0.0   0.0   0.0   0.0   0.0   0.0   0.0   0.0   0.0   0.0   0.0   0.0   0.0   0.0   0.0   0.0   0.0   0.0   0.0   0.0   0.0   0.0   0.0   0.0   0.0   0.0   0.0   0.0   0.0   0.0   0.0   0.0   0.0   0.0   0.0   0.0   0.0   0.0   0.0   0.0   0.0   0.0   0.0   0.0   0.0   0.0   0.0   5.0   0.0   0.0   0.0   0.0   0.0   0.0   0.0   0.0   0.0   0.0   0.0   0.0   0.0   0.0   0.0   0.0   0.0   0.0   0.0   0.0   0.0   0.0   0.0   0.0   0.0   0.0   0.0   0.0   3.0   0.0   0.0   0.0   0.0   0.0   0.0   0.0   0.0   0.0   0.0   0.0   0.0   0.0   0.0   0.0   0.0   0.0   0.0   0.0   0.0   0.0   3.0   0.0   0.0   0.0   0.0   0.0   3.0   0.0   0.0   0.0   0.0   0.0   0.0   0.0   0.0   0.0   0.0   0.0   0.0   0.0   0.0   0.0   0.0   0.0   0.0   0.0   0.0   4.0   0.0   0.0   3.0   0.0   0.0   0.0   0.0   0.0   0.0   0.0   0.0   0.0   0.0   0.0   0.0   0.0   0.0   0.0   0.0   0.0   0.0   0.0   0.0   0.0   0.0   0.0   0.0   0.0   4.0   0.0   0.0   0.0   0.0   0.0   0.0   0.0   0.0   0.0   0.0   0.0   0.0   0.0   0.0   0.0   0.0   0.0   0.0   0.0   0.0   0.0   0.0   0.0   0.0   0.0   0.0   0.0   0.0   0.0   0.0   0.0   0.0   0.0   0.0   0.0   0.0   0.0   0.0   0.0   0.0   0.0   0.0   0.0   0.0   0.0   0.0   0.0   0.0   0.0   0.0   0.0   0.0   0.0   0.0   0.0   0.0   0.0   0.0   0.0   0.0   0.0   0.0   0.0   0.0   3.0   0.0   0.0   0.0   0.0   0.0   0.0   5.0   0.0   0.0   0.0   0.0   0.0   0.0   0.0   0.0   0.0   0.0   0.0   0.0   0.0   0.0   0.0   0.0   0.0   0.0   0.0   0.0   0.0   0.0   0.0   0.0   0.0   0.0   0.0   0.0   0.0   0.0   0.0   0.0   0.0   0.0   0.0   0.0   0.0   0.0   0.0   0.0   0.0   0.0   0.0   0.0   0.0   0.0   0.0   0.0   0.0   0.0   0.0   0.0   0.0   0.0   0.0   0.0   0.0   0.0   0.0   0.0   0.0   0.0   0.0   0.0   0.0   0.0   0.0   0.0   0.0   0.0   0.0   0.0   0.0   0.0   0.0   0.0   0.0   0.0   0.0   3.0   0.0   0.0   0.0   0.0   0.0   0.0   0.0   0.0   0.0   0.0   0.0   0.0   0.0   0.0   0.0   0.0   0.0   0.0   0.0   0.0   0.0   0.0   0.0   0.0   0.0   0.0   0.0   0.0   0.0   0.0   0.0   0.0   0.0   0.0   0.0   0.0   0.0   0.0   0.0   0.0   0.0   0.0   0.0   0.0   0.0   0.0   3.0   0.0   0.0   0.0   0.0   0.0   0.0   0.0   0.0   3.0   0.0   0.0   0.0   0.0   0.0   0.0   0.0   0.0   0.0   0.0   0.0   0.0   0.0   0.0   0.0   0.0   0.0   0.0   0.0   0.0   0.0   0.0   0.0   0.0   0.0   0.0   0.0   0.0   0.0   0.0   0.0   0.0   0.0   0.0   0.0   0.0   0.0   0.0   0.0   0.0   0.0   0.0   0.0   0.0   0.0   0.0   0.0   0.0   0.0   0.0   0.0   0.0   0.0   0.0   0.0   0.0   0.0   0.0   0.0   0.0   0.0   0.0   0.0   0.0   0.0   0.0   0.0   0.0   0.0   0.0   0.0   0.0   0.0   0.0   4.0   0.0   0.0   0.0   0.0   0.0   0.0   0.0   0.0   0.0   0.0   0.0   0.0   0.0   0.0   0.0   3.0   0.0   0.0   0.0   0.0   0.0   0.0   0.0   0.0   0.0   0.0   0.0   0.0   0.0   0.0   0.0   0.0   0.0   0.0   0.0   0.0   0.0   0.0   0.0   0.0   0.0   0.0   3.0   0.0   0.0   0.0   0.0   0.0   0.0   0.0   0.0   0.0   0.0   0.0   0.0   0.0   4.0   0.0   0.0   0.0   0.0   0.0   0.0   0.0   0.0   0.0   0.0   0.0   0.0   0.0   0.0   0.0   0.0   0.0   0.0   0.0   0.0   0.0   0.0   0.0   0.0   0.0   0.0   0.0   0.0   0.0   0.0   0.0   0.0   0.0   0.0   0.0   0.0   0.0   0.0   0.0   0.0   0.0   0.0   0.0   0.0   0.0   0.0   0.0   0.0   0.0   0.0   4.0   0.0   0.0   0.0   4.0   0.0   0.0   0.0   0.0   0.0   0.0   0.0   0.0   0.0   0.0   0.0   0.0   0.0   0.0   0.0   0.0   0.0   0.0   0.0   0.0   0.0   0.0   4.0   0.0   0.0   0.0   0.0   0.0   0.0   0.0   0.0   0.0   0.0   0.0   0.0   0.0   0.0   0.0   0.0   0.0   0.0   0.0   0.0   4.0   0.0   2.0   0.0   0.0   0.0   0.0   0.0   0.0   0.0   0.0   0.0   0.0   0.0   0.0   0.0   0.0   0.0   0.0   0.0   0.0   0.0   0.0   0.0   0.0   0.0   0.0   0.0   0.0   0.0   0.0   0.0   0.0   0.0   0.0   0.0   0.0   0.0   0.0   0.0   0.0   0.0   0.0   0.0   0.0   0.0   0.0   0.0   0.0   0.0   0.0   0.0   0.0   0.0   0.0   0.0   0.0   0.0   0.0   0.0   0.0   0.0   0.0   0.0   0.0   0.0   0.0   0.0   0.0   0.0   0.0   0.0   0.0   0.0   0.0   0.0   0.0   0.0   0.0   0.0   0.0   0.0   0.0   2.0   0.0   0.0   0.0   0.0   0.0   0.0   0.0   0.0   0.0   0.0   0.0   0.0   0.0   0.0   0.0   0.0   0.0   0.0   0.0   0.0   0.0   0.0   0.0   0.0   0.0   0.0   0.0   0.0   0.0   0.0   0.0   0.0   0.0   0.0   0.0   0.0   0.0   0.0   0.0   0.0   0.0   0.0   0.0   0.0   0.0   0.0   0.0   0.0   4.0   0.0   0.0   0.0   0.0   0.0   0.0   0.0   0.0   0.0   0.0   0.0   0.0   0.0   0.0   0.0   0.0   0.0   0.0   0.0   0.0   0.0   0.0   0.0   0.0   0.0   0.0   0.0   0.0   0.0   0.0   0.0   0.0   0.0   0.0   0.0   0.0   0.0   0.0   0.0   0.0   0.0   0.0   0.0   0.0   0.0   0.0   0.0   0.0   0.0   0.0   0.0   0.0   4.0   0.0   0.0   0.0   0.0   0.0   0.0   0.0   0.0   0.0   0.0   0.0   0.0   0.0   0.0   0.0   0.0   0.0   0.0   0.0   0.0   0.0   0.0   0.0   0.0   0.0   4.0   0.0   0.0   0.0   0.0   0.0   0.0   0.0   0.0   0.0   0.0   0.0   0.0   0.0   0.0   0.0   5.0   0.0   0.0   0.0   0.0   0.0   0.0   0.0   0.0   0.0   0.0   0.0   0.0   0.0   0.0   0.0   0.0   0.0   0.0   0.0   0.0   0.0   0.0   0.0   0.0   0.0   0.0   0.0   0.0   0.0   0.0   0.0   0.0   0.0   0.0   0.0   0.0   0.0   0.0   0.0   0.0   0.0   0.0   0.0   0.0   0.0   0.0   0.0   0.0   0.0   0.0   0.0   0.0   0.0   0.0   0.0   0.0   0.0   0.0   0.0   0.0   0.0   0.0   0.0   0.0   0.0   0.0   5.0   0.0   0.0   0.0   0.0   0.0   0.0   0.0   0.0   0.0   0.0   0.0   0.0   0.0   0.0   0.0   0.0   0.0   0.0   0.0   0.0   0.0   0.0   0.0   0.0   0.0   0.0   0.0   0.0   0.0   0.0   0.0   0.0   0.0   0.0   0.0   0.0   0.0   0.0   0.0   0.0   0.0   0.0   0.0   0.0   0.0   0.0   0.0   0.0   0.0   0.0   0.0   0.0   0.0   0.0   0.0   0.0   0.0   0.0   0.0   0.0   0.0   0.0   0.0   0.0   0.0   0.0   0.0   0.0   2.0   0.0   0.0   0.0   0.0   0.0   0.0   0.0   0.0   0.0   0.0   0.0   0.0   0.0   0.0   0.0   0.0   0.0   0.0   0.0   0.0   0.0   0.0   0.0   0.0   0.0   0.0   0.0   3.0   0.0   0.0   0.0   0.0   0.0   0.0   0.0   0.0   0.0   0.0   0.0   0.0   0.0   0.0   0.0   0.0   0.0   0.0   0.0   0.0   0.0   0.0   0.0   0.0   0.0   0.0   0.0   0.0   0.0   0.0   0.0   0.0   0.0   0.0   0.0   0.0   0.0   0.0   0.0   0.0   0.0   0.0   0.0   0.0   3.0   0.0   0.0   0.0   0.0   0.0   0.0   0.0   0.0   0.0   0.0   0.0   0.0   0.0   0.0   0.0   0.0   0.0   0.0   0.0   0.0   0.0   0.0   0.0   0.0   0.0   0.0   0.0   0.0   0.0   0.0   0.0   0.0   0.0   0.0   0.0   0.0   0.0   0.0   0.0   0.0   0.0   0.0   0.0   1.0   0.0   0.0   0.0   0.0   0.0   0.0   0.0   0.0   0.0   0.0   0.0   0.0   0.0   0.0   0.0   0.0   0.0   0.0   0.0   0.0   0.0   0.0   0.0   0.0   0.0   0.0   0.0   0.0   0.0   0.0   0.0   0.0   0.0   0.0   0.0   0.0   0.0   0.0   0.0   0.0\n",
      "3         0.0   0.0   0.0   0.0   0.0   0.0   0.0   0.0   0.0   0.0   0.0   0.0   0.0   0.0   0.0   0.0   0.0   0.0   0.0   0.0   0.0   0.0   0.0   0.0   0.0   0.0   0.0   0.0   0.0   0.0   0.0   0.0   0.0   0.0   0.0   0.0   0.0   0.0   0.0   0.0   0.0   0.0   0.0   0.0   0.0   0.0   0.0   0.0   0.0   0.0   0.0   0.0   0.0   0.0   0.0   0.0   0.0   0.0   0.0   0.0   0.0   0.0   0.0   0.0   0.0   0.0   0.0   0.0   0.0   0.0   0.0   0.0   0.0   0.0   0.0   0.0   0.0   0.0   0.0   4.0   0.0   0.0   0.0   0.0   0.0   0.0   0.0   0.0   0.0   0.0   0.0   0.0   0.0   0.0   0.0   0.0   0.0   0.0   0.0   0.0   0.0   0.0   0.0   0.0   0.0   0.0   0.0   0.0   0.0   0.0   0.0   0.0   0.0   0.0   0.0   0.0   0.0   0.0   0.0   0.0   0.0   0.0   0.0   0.0   0.0   0.0   0.0   0.0   0.0   0.0   0.0   0.0   0.0   0.0   0.0   0.0   0.0   0.0   0.0   0.0   0.0   0.0   0.0   0.0   0.0   0.0   0.0   0.0   0.0   0.0   0.0   0.0   0.0   0.0   0.0   0.0   0.0   0.0   0.0   0.0   0.0   0.0   0.0   0.0   0.0   0.0   0.0   0.0   0.0   0.0   0.0   0.0   0.0   0.0   0.0   0.0   0.0   0.0   0.0   0.0   0.0   0.0   0.0   0.0   0.0   0.0   5.0   0.0   0.0   0.0   0.0   0.0   0.0   0.0   0.0   0.0   0.0   0.0   0.0   0.0   0.0   0.0   0.0   0.0   0.0   0.0   0.0   0.0   0.0   0.0   0.0   0.0   0.0   0.0   0.0   0.0   0.0   0.0   0.0   0.0   0.0   0.0   0.0   0.0   0.0   0.0   0.0   0.0   0.0   0.0   0.0   0.0   0.0   0.0   0.0   0.0   0.0   0.0   0.0   0.0   0.0   0.0   0.0   0.0   0.0   0.0   0.0   0.0   0.0   0.0   0.0   0.0   0.0   0.0   0.0   0.0   0.0   0.0   0.0   0.0   0.0   0.0   0.0   0.0   0.0   0.0   0.0   0.0   0.0   0.0   0.0   0.0   0.0   0.0   0.0   0.0   0.0   0.0   0.0   0.0   0.0   0.0   0.0   0.0   0.0   0.0   0.0   0.0   0.0   0.0   0.0   0.0   0.0   0.0   0.0   0.0   0.0   0.0   0.0   0.0   0.0   0.0   0.0   0.0   0.0   0.0   0.0   0.0   0.0   0.0   0.0   0.0   0.0   0.0   0.0   0.0   0.0   0.0   0.0   0.0   0.0   0.0   0.0   0.0   0.0   0.0   0.0   0.0   0.0   0.0   0.0   0.0   0.0   0.0   0.0   0.0   4.0   0.0   0.0   0.0   0.0   0.0   0.0   0.0   0.0   0.0   0.0   0.0   0.0   0.0   0.0   0.0   0.0   0.0   0.0   0.0   0.0   0.0   0.0   0.0   0.0   0.0   0.0   0.0   0.0   0.0   0.0   0.0   0.0   0.0   0.0   0.0   0.0   0.0   0.0   0.0   0.0   0.0   0.0   0.0   0.0   0.0   0.0   0.0   0.0   0.0   0.0   0.0   0.0   0.0   0.0   0.0   0.0   0.0   0.0   0.0   0.0   0.0   0.0   0.0   0.0   0.0   0.0   0.0   0.0   0.0   0.0   0.0   0.0   0.0   4.0   0.0   0.0   0.0   0.0   0.0   0.0   0.0   0.0   0.0   0.0   0.0   0.0   0.0   0.0   0.0   0.0   0.0   0.0   0.0   0.0   0.0   0.0   0.0   0.0   0.0   0.0   0.0   0.0   0.0   0.0   0.0   0.0   0.0   3.0   0.0   0.0   0.0   0.0   0.0   0.0   0.0   0.0   0.0   0.0   0.0   0.0   0.0   0.0   0.0   0.0   0.0   0.0   0.0   0.0   0.0   0.0   0.0   0.0   0.0   0.0   0.0   0.0   0.0   0.0   0.0   0.0   0.0   0.0   0.0   0.0   0.0   0.0   0.0   0.0   0.0   0.0   0.0   0.0   0.0   0.0   0.0   0.0   0.0   0.0   0.0   0.0   0.0   0.0   0.0   0.0   0.0   0.0   0.0   0.0   0.0   0.0   0.0   0.0   0.0   0.0   0.0   0.0   0.0   0.0   0.0   0.0   0.0   0.0   0.0   0.0   0.0   0.0   0.0   0.0   0.0   0.0   0.0   0.0   0.0   0.0   0.0   0.0   0.0   0.0   0.0   0.0   0.0   0.0   0.0   0.0   0.0   0.0   0.0   0.0   0.0   0.0   0.0   0.0   0.0   0.0   0.0   0.0   0.0   0.0   0.0   0.0   0.0   0.0   0.0   0.0   0.0   0.0   0.0   0.0   0.0   0.0   0.0   0.0   0.0   0.0   0.0   0.0   0.0   0.0   0.0   0.0   0.0   0.0   0.0   0.0   0.0   0.0   0.0   0.0   0.0   0.0   0.0   0.0   0.0   0.0   0.0   0.0   0.0   0.0   0.0   0.0   0.0   0.0   0.0   0.0   0.0   0.0   0.0   0.0   0.0   0.0   0.0   0.0   0.0   0.0   0.0   0.0   0.0   0.0   0.0   0.0   0.0   0.0   0.0   0.0   0.0   0.0   0.0   0.0   0.0   0.0   0.0   0.0   0.0   0.0   0.0   0.0   0.0   0.0   0.0   0.0   0.0   0.0   0.0   0.0   0.0   0.0   0.0   0.0   0.0   0.0   0.0   0.0   0.0   0.0   0.0   0.0   0.0   0.0   0.0   0.0   0.0   0.0   0.0   0.0   0.0   0.0   0.0   0.0   0.0   0.0   0.0   0.0   0.0   0.0   0.0   0.0   0.0   0.0   0.0   0.0   0.0   0.0   0.0   0.0   0.0   0.0   0.0   0.0   0.0   0.0   0.0   0.0   0.0   0.0   0.0   0.0   0.0   0.0   0.0   0.0   0.0   0.0   0.0   0.0   0.0   0.0   0.0   0.0   0.0   0.0   0.0   0.0   0.0   0.0   0.0   0.0   0.0   0.0   0.0   0.0   0.0   0.0   0.0   0.0   5.0   0.0   0.0   0.0   0.0   0.0   0.0   0.0   0.0   0.0   0.0   0.0   0.0   0.0   0.0   0.0   0.0   0.0   0.0   0.0   0.0   0.0   0.0   0.0   0.0   0.0   0.0   0.0   0.0   0.0   0.0   0.0   4.0   5.0   0.0   0.0   0.0   0.0   0.0   0.0   0.0   4.0   0.0   0.0   0.0   0.0   0.0   0.0   0.0   0.0   0.0   0.0   0.0   0.0   0.0   0.0   0.0   0.0   0.0   0.0   0.0   0.0   0.0   0.0   0.0   5.0   0.0   0.0   2.0   5.0   0.0   0.0   3.0   0.0   0.0   0.0   0.0   0.0   0.0   0.0   0.0   0.0   0.0   0.0   0.0   0.0   0.0   0.0   0.0   0.0   0.0   4.0   0.0   0.0   0.0   0.0   0.0   0.0   5.0   0.0   0.0   0.0   0.0   0.0   0.0   0.0   0.0   0.0   0.0   0.0   0.0   0.0   0.0   0.0   0.0   0.0   0.0   0.0   0.0   0.0   0.0   0.0   0.0   0.0   0.0   0.0   0.0   0.0   0.0   0.0   0.0   0.0   0.0   0.0   0.0   0.0   0.0   0.0   0.0   0.0   5.0   4.0   0.0   0.0   0.0   0.0   0.0   0.0   0.0   0.0   0.0   0.0   0.0   0.0   0.0   4.0   0.0   0.0   0.0   0.0   0.0   0.0   0.0   0.0   0.0   0.0   0.0   0.0   0.0   0.0   0.0   0.0   0.0   0.0   0.0   0.0   0.0   0.0   3.0   0.0   0.0   0.0   0.0   0.0   0.0   0.0   0.0   0.0   0.0   0.0   0.0   0.0   0.0   0.0   0.0   0.0   0.0   0.0   0.0   0.0   0.0   0.0   0.0   0.0   0.0   0.0   0.0   0.0   0.0   0.0   0.0   0.0   0.0   0.0   0.0   0.0   0.0   0.0   0.0   0.0   0.0   0.0   0.0   0.0   0.0   0.0   0.0   0.0   0.0   0.0   0.0   0.0   0.0   0.0   0.0   0.0   0.0   0.0   0.0   0.0   0.0   0.0   0.0   0.0   0.0   0.0   0.0   0.0   0.0   0.0   0.0   0.0   0.0   0.0   0.0   0.0   0.0   0.0   0.0   0.0   0.0   0.0   0.0   0.0   0.0   0.0   0.0   0.0   0.0   3.0   0.0   0.0   0.0   0.0   0.0   0.0   0.0   0.0   0.0   0.0   0.0   0.0   0.0   0.0   0.0   0.0   0.0   0.0   0.0   0.0   0.0   0.0   0.0   0.0   0.0   0.0   0.0   0.0   0.0   0.0   0.0   0.0   0.0   0.0   0.0   0.0   0.0   0.0   0.0   0.0   0.0   0.0   0.0   0.0   0.0   0.0   0.0   0.0   0.0   0.0   0.0   0.0   0.0   0.0   0.0   0.0   0.0   0.0   0.0   0.0   0.0   0.0   0.0   0.0   0.0   0.0   0.0   0.0   0.0   0.0   0.0   0.0   0.0   0.0   0.0   0.0   0.0   0.0   0.0   0.0   0.0   0.0   0.0   0.0   0.0   0.0   0.0   0.0   0.0   0.0   0.0   0.0   0.0   0.0   0.0   0.0   0.0   0.0   0.0   0.0   0.0   0.0   0.0   0.0   0.0   0.0   0.0   0.0   0.0   0.0   0.0   0.0   0.0   0.0   0.0   0.0   0.0   0.0   0.0   0.0   0.0   0.0   0.0   0.0   0.0   0.0   0.0   0.0   0.0   0.0   0.0   0.0   0.0   0.0   0.0   0.0   0.0   0.0   0.0   0.0   0.0   0.0   0.0   0.0   0.0   0.0   0.0   0.0   0.0   0.0   0.0   0.0   0.0   0.0   0.0   0.0   0.0   0.0   0.0   0.0   0.0   0.0   0.0   0.0   0.0   0.0   0.0   0.0   0.0   0.0   0.0   0.0   0.0   0.0   0.0   0.0   0.0   0.0   0.0   0.0   0.0   0.0   0.0   0.0   0.0   0.0   0.0   0.0   0.0   0.0   0.0   0.0   0.0   0.0   0.0   0.0   0.0   0.0   0.0   0.0   0.0   0.0   0.0   0.0   0.0   0.0   0.0   0.0   0.0   0.0   0.0   0.0   0.0   0.0   0.0   0.0   0.0   0.0   0.0   0.0   0.0   0.0   0.0   0.0   0.0   0.0   0.0   0.0   0.0   0.0   0.0   0.0   0.0   0.0   4.0   0.0   0.0   0.0   0.0   0.0   0.0   0.0   0.0   0.0   0.0   0.0   0.0   0.0   0.0   0.0   0.0   0.0   0.0   0.0   0.0   0.0   0.0   0.0   0.0   0.0   0.0   0.0   0.0   0.0   0.0   0.0   0.0   0.0   0.0   0.0   0.0   0.0   0.0   0.0   0.0   0.0   0.0   0.0   0.0   0.0   0.0   0.0   0.0   0.0   0.0   0.0   0.0   0.0   0.0   0.0   0.0   0.0   0.0   0.0   0.0   0.0   0.0   0.0   0.0   0.0   0.0   0.0   0.0   0.0   0.0   0.0   0.0   0.0   0.0   0.0   0.0   0.0   0.0   0.0   0.0   0.0   0.0   0.0   0.0   0.0   0.0   0.0   0.0   0.0   0.0   0.0   0.0   0.0   0.0   0.0   0.0   4.0   0.0   0.0   0.0   0.0   0.0   0.0   0.0   0.0   0.0   0.0   0.0   0.0   0.0   0.0   0.0   0.0   0.0   0.0   0.0   0.0   0.0   0.0   0.0   0.0   0.0   0.0   0.0   0.0   0.0   0.0   0.0   5.0   0.0   0.0   0.0   0.0   0.0   0.0   0.0   0.0   0.0   0.0   0.0   0.0   0.0   0.0   0.0   0.0   0.0   0.0   0.0   0.0   0.0   0.0   0.0   0.0   0.0   0.0   0.0   0.0   0.0   0.0   0.0   0.0   0.0   0.0   0.0   0.0   0.0   0.0   0.0   0.0   0.0   0.0   0.0   0.0   0.0   0.0   0.0   0.0   0.0   0.0   0.0   0.0   0.0   0.0   0.0   0.0   0.0   0.0   0.0   0.0   0.0   0.0   0.0   0.0   0.0   0.0   0.0   0.0   0.0   0.0   0.0   0.0   0.0   0.0   0.0   0.0   0.0   0.0   0.0   0.0   0.0   0.0   0.0   0.0   0.0   0.0   0.0   0.0   0.0   0.0   0.0   0.0   0.0   0.0   0.0   0.0   0.0   0.0   0.0   0.0   0.0   0.0   0.0   0.0   0.0   0.0   0.0   0.0   0.0   0.0   0.0   0.0   0.0   0.0   0.0   0.0   0.0   0.0   0.0   0.0   0.0   0.0   0.0   0.0   0.0   0.0   0.0   0.0   0.0   0.0   0.0   0.0   0.0   0.0   0.0   0.0   0.0   0.0   0.0   0.0   0.0   0.0   0.0   0.0   0.0   0.0   0.0   0.0   0.0   0.0   0.0   0.0   0.0   0.0   0.0   0.0   0.0   0.0   0.0   0.0   0.0   0.0   0.0   0.0   0.0   0.0   0.0   0.0   0.0   0.0   0.0   0.0   0.0   0.0   0.0   0.0   0.0   0.0   0.0   0.0   0.0   0.0   0.0   0.0   0.0   0.0   0.0   0.0   0.0   0.0   0.0   0.0   0.0   0.0   0.0   4.0   0.0   0.0   0.0   0.0   0.0   0.0   0.0   0.0   0.0   0.0   0.0   0.0   0.0   0.0   0.0   0.0   0.0   0.0   0.0   0.0   0.0   0.0   0.0   0.0   0.0   0.0   0.0   0.0   0.0   0.0   0.0   0.0   0.0   0.0   0.0   0.0   0.0   0.0   0.0   0.0   0.0   0.0   0.0   0.0   0.0   0.0   0.0   0.0   0.0   0.0   0.0   0.0   0.0   0.0   0.0   0.0   0.0   0.0   0.0   0.0   0.0   0.0   0.0   0.0   0.0   0.0   0.0   0.0   0.0   0.0   0.0   0.0   0.0   0.0   0.0   0.0   0.0   0.0   0.0   0.0   0.0   0.0   0.0   0.0   0.0   0.0   0.0   0.0   0.0   0.0   0.0   0.0   0.0   0.0   0.0   0.0   0.0   0.0   0.0   0.0   0.0   0.0   0.0   0.0   0.0   0.0   0.0   0.0   0.0   0.0   0.0   0.0   0.0   0.0   0.0   0.0   0.0   0.0   0.0   0.0   0.0   0.0   0.0   0.0   0.0   0.0   0.0   0.0   0.0   0.0   0.0   0.0   0.0   0.0   0.0   0.0   0.0   0.0   0.0   0.0   0.0   0.0   0.0   0.0   0.0   0.0   0.0   0.0   0.0   0.0   0.0   0.0   0.0   0.0   0.0   0.0   0.0   0.0   0.0   0.0   0.0   0.0   0.0   0.0   0.0   0.0   0.0   0.0   0.0   0.0   0.0   0.0   0.0   0.0   0.0   0.0   0.0   0.0   0.0   0.0   0.0   0.0   0.0   0.0   0.0   0.0   0.0   0.0   0.0   0.0   0.0   0.0   0.0   0.0   0.0   0.0   0.0   0.0   0.0   0.0   0.0   0.0   0.0   0.0   0.0   0.0   0.0   0.0   0.0   0.0   0.0   0.0   0.0   0.0   0.0   0.0   0.0   0.0   0.0   0.0   0.0   0.0   0.0   0.0   0.0   0.0   0.0   0.0   0.0   0.0   0.0   0.0   4.0   0.0   0.0   0.0   0.0   0.0   0.0   0.0   0.0   4.0   0.0   0.0   0.0   0.0   0.0   0.0   0.0   0.0   0.0   0.0   0.0   0.0   0.0   0.0   0.0   0.0   0.0   0.0   0.0   0.0   0.0   0.0   0.0   0.0   0.0   0.0   0.0   0.0   0.0   0.0   0.0   0.0   0.0   0.0   0.0   0.0   0.0   0.0   0.0   0.0   0.0   0.0   0.0   0.0   0.0   0.0   0.0   0.0   0.0   0.0   0.0   0.0   0.0   0.0   0.0   0.0   0.0   0.0   0.0   0.0   0.0   0.0   0.0   0.0   0.0   0.0   0.0   0.0   0.0   0.0   0.0   0.0   0.0   0.0   0.0   0.0   0.0   0.0   3.0   0.0   0.0   0.0   0.0   0.0   0.0   0.0   0.0   0.0   0.0   0.0   0.0   0.0   0.0   0.0   0.0   0.0   0.0   0.0   0.0   0.0   0.0   0.0   0.0   0.0   0.0   0.0   0.0   0.0   0.0   0.0   0.0   0.0   0.0   0.0   0.0   0.0   0.0   0.0   0.0   0.0   0.0   0.0   0.0   0.0   0.0   0.0   0.0   0.0   0.0   0.0   0.0   0.0   0.0   0.0   0.0   0.0   0.0   0.0   0.0   0.0   0.0   0.0   0.0   0.0   0.0   0.0   0.0   0.0   0.0   0.0   0.0   0.0   3.0   0.0   0.0   0.0   0.0   0.0   0.0   0.0   0.0   0.0   0.0   0.0   0.0   0.0   0.0   0.0   0.0   0.0   0.0   0.0   0.0   0.0   0.0   0.0   0.0   0.0   0.0   0.0   0.0   0.0   4.0   0.0   0.0   0.0   0.0   0.0   0.0   0.0   0.0   0.0   0.0   0.0   0.0   0.0   0.0   0.0   0.0   0.0   0.0   0.0   0.0   0.0   0.0   0.0   0.0   0.0   0.0   0.0   0.0   0.0   0.0   0.0   0.0   0.0   0.0   0.0   0.0   0.0   0.0   0.0   0.0   0.0   0.0   0.0   0.0   0.0   0.0   0.0   0.0   0.0   0.0   0.0   0.0   0.0   0.0   0.0   0.0   0.0   0.0   0.0   0.0   0.0   0.0   0.0   0.0   0.0   0.0   0.0   0.0   0.0   0.0   0.0   0.0   0.0   0.0   0.0   0.0   0.0   0.0   0.0   0.0   0.0   0.0   0.0   0.0   0.0   0.0   0.0   0.0   0.0   0.0   0.0   0.0   0.0   0.0   0.0   0.0   0.0   0.0   0.0   0.0   0.0   0.0   0.0   0.0   0.0   0.0   0.0   0.0   0.0   0.0   0.0   0.0   0.0   0.0   0.0   0.0   0.0   0.0   0.0   0.0   0.0   0.0   0.0   0.0   0.0   0.0   0.0   0.0   0.0   0.0   0.0   0.0   0.0   0.0   0.0   0.0   0.0   0.0   0.0   0.0   0.0   0.0   0.0   0.0   0.0   0.0   0.0   0.0   0.0   0.0   0.0   0.0   0.0   0.0   0.0   0.0   0.0   0.0   0.0   0.0   0.0   0.0   0.0   0.0   0.0   0.0   0.0   0.0   0.0   0.0   0.0   0.0   0.0   0.0   0.0   0.0   0.0   0.0   0.0   0.0   0.0   0.0   0.0   0.0   0.0   0.0   0.0   0.0   0.0   0.0   0.0   0.0   0.0   0.0   0.0   0.0   0.0   0.0   0.0   0.0   0.0   0.0   0.0   0.0   0.0   0.0   0.0   0.0   0.0   0.0   0.0   0.0   0.0   0.0   0.0   0.0   0.0   0.0   0.0   0.0   0.0   0.0   0.0   0.0   0.0   0.0   0.0   0.0   0.0   0.0   0.0   3.0   0.0   0.0   0.0   0.0   0.0   0.0   0.0   0.0   0.0   0.0   0.0   0.0   0.0   5.0   0.0   0.0   0.0   0.0   0.0   0.0   0.0   0.0   0.0   0.0   0.0   0.0   0.0   0.0   0.0   0.0   0.0   0.0   0.0   0.0   0.0   0.0   0.0   0.0   0.0   0.0   0.0   0.0   0.0   0.0   0.0   0.0   0.0   0.0   0.0   0.0   0.0   0.0   0.0   0.0   0.0   0.0   0.0   0.0   0.0   0.0   0.0   0.0   0.0   0.0   0.0   0.0   0.0   0.0   0.0   0.0   0.0   0.0   0.0   0.0   5.0   0.0   0.0   0.0   0.0   0.0   0.0   0.0   0.0   0.0   0.0   0.0   0.0   0.0   0.0   0.0   0.0   0.0   0.0   0.0   0.0   0.0   0.0   0.0   0.0   0.0   0.0   0.0   0.0   0.0   0.0   0.0   0.0   0.0   0.0   0.0   0.0   0.0   0.0   0.0   0.0   0.0   0.0   0.0   0.0   0.0   0.0   0.0   0.0   0.0   0.0   0.0   0.0   0.0   0.0   0.0   0.0   0.0   0.0   0.0   0.0   0.0   0.0   0.0   0.0   0.0   0.0   0.0   0.0   0.0   0.0   0.0   0.0   0.0   0.0   0.0   0.0   0.0   0.0   0.0   0.0   0.0   0.0   0.0   0.0   0.0   0.0   0.0   0.0   0.0   0.0   0.0   0.0   0.0   0.0   0.0   0.0   0.0   0.0   0.0   0.0   0.0   0.0   0.0   0.0   0.0   0.0   0.0   0.0   0.0   0.0   0.0   0.0   0.0   0.0   0.0   0.0   0.0   0.0   0.0   0.0   0.0   0.0   0.0   0.0   0.0   0.0   0.0   0.0   0.0   0.0   0.0   0.0   0.0   0.0   0.0   0.0   0.0   0.0   0.0   0.0   0.0   0.0   0.0   0.0   0.0   0.0   0.0   0.0   0.0   0.0   0.0   0.0   0.0   0.0   0.0   0.0   0.0   0.0   0.0   0.0   0.0   0.0   0.0   0.0   0.0   0.0   0.0   0.0   0.0   0.0   0.0   0.0   0.0   0.0   0.0   0.0   0.0\n",
      "(6040, 2460)\n"
     ]
    }
   ],
   "source": [
    "# Filter the ratings to include only those movies that are in the distinct_movies dataframe\n",
    "filtered_ratings_df = ratings_dat_df[ratings_dat_df['MovieID'].isin(distinct_movies['MovieID'])]\n",
    "\n",
    "# Create a user-item interaction matrix for collaborative filtering\n",
    "user_item_matrix = filtered_ratings_df.pivot(index='UserID', columns='MovieID', values='Rating').fillna(0)\n",
    "print(user_item_matrix.head(3))\n",
    "print(user_item_matrix.shape)"
   ]
  },
  {
   "cell_type": "code",
   "execution_count": 14,
   "metadata": {},
   "outputs": [
    {
     "name": "stdout",
     "output_type": "stream",
     "text": [
      "   UserID  Number of Ratings\n",
      "0    4169               1557\n",
      "1    1680               1314\n",
      "2    4277               1190\n",
      "------------------\n",
      "The number of ratings for user 1 and 2 are :\n",
      "41\n",
      "89\n"
     ]
    }
   ],
   "source": [
    "# Find users who have the most ratings\n",
    "# They will be used to test the recommendation method later\n",
    "user_ratings = filtered_ratings_df['UserID'].value_counts()\n",
    "user_ratings_no_axis = user_ratings.reset_index()\n",
    "user_ratings_no_axis.columns = ['UserID', 'Number of Ratings']\n",
    "print(user_ratings_no_axis.head(3))\n",
    "\n",
    "# print the number of ratings for user 1 and 2\n",
    "print(\"------------------\")\n",
    "print(\"The number of ratings for user 1 and 2 are :\")\n",
    "print(user_ratings[1])\n",
    "print(user_ratings[2])\n"
   ]
  },
  {
   "cell_type": "markdown",
   "metadata": {},
   "source": [
    "2. **Feature Engineering**\n",
    "- Understand how to combine user data to get data for the couple of users."
   ]
  },
  {
   "cell_type": "markdown",
   "metadata": {},
   "source": [
    "Ici je vais simplement prendre les notes des utilisateurs pour les films.\\\n",
    "Puis faire la moyenne des notes pour chaque film.\\\n",
    "Cela va me donner une note moyenne pour chaque film, que je vais trier par ordre décroissant.\\\n",
    "Cela va me permettre de voir les films les mieux notés par le couple d'utilisateur."
   ]
  },
  {
   "cell_type": "code",
   "execution_count": 15,
   "metadata": {},
   "outputs": [
    {
     "name": "stdout",
     "output_type": "stream",
     "text": [
      "      MovieID  Combined Rating\n",
      "0           1              2.5\n",
      "1           2              0.0\n",
      "2           3              0.0\n",
      "3           4              0.0\n",
      "4           5              0.0\n",
      "...       ...              ...\n",
      "2455     3947              0.0\n",
      "2456     3948              0.0\n",
      "2457     3949              0.0\n",
      "2458     3950              0.0\n",
      "2459     3951              0.0\n",
      "\n",
      "[2460 rows x 2 columns]\n"
     ]
    }
   ],
   "source": [
    "# Sample function to combine user data\n",
    "def combine_user_data(user1_id, user2_id, user_item_matrix):\n",
    "    user1_ratings = user_item_matrix.loc[user1_id]\n",
    "    user2_ratings = user_item_matrix.loc[user2_id]\n",
    "\n",
    "    # Combine ratings by averaging\n",
    "    combined_ratings = pd.concat([user1_ratings, user2_ratings], axis=1)\n",
    "    combined_ratings.columns = ['User1', 'User2']\n",
    "    \n",
    "    # Average the ratings where both users have rated the movie, otherwise take the non-zero rating\n",
    "    combined_ratings['Combined'] = combined_ratings.mean(axis=1)\n",
    "    combined_ratings['Combined'] = combined_ratings['Combined'].fillna(0)  # Fill NaNs with 0 (for unseen movies)\n",
    "    \n",
    "    return combined_ratings['Combined']\n",
    "\n",
    "# Example usage with user IDs 1 and 2\n",
    "#user1_id = 4169\n",
    "user1_id = 1\n",
    "user2_id = 2\n",
    "#user2_id = 1680\n",
    "combined_user_data = combine_user_data(user1_id, user2_id, user_item_matrix)\n",
    "\n",
    "# Print the result\n",
    "combined_user_data_no_index = combined_user_data.reset_index()\n",
    "combined_user_data_no_index.columns = ['MovieID', 'Combined Rating']\n",
    "print(combined_user_data_no_index)\n"
   ]
  },
  {
   "cell_type": "code",
   "execution_count": 16,
   "metadata": {},
   "outputs": [
    {
     "name": "stdout",
     "output_type": "stream",
     "text": [
      "The top 5 movie recommendations for combined user profile:\n",
      "      MovieID                            Title  Year startYear runtimeMinutes            Genres\n",
      "2218     1193  One Flew Over the Cuckoo's Nest  1975      1975            133             Drama\n",
      "2312     1246               Dead Poets Society  1989      1989            128      Comedy|Drama\n",
      "3668     1962               Driving Miss Daisy  1989      1989             99      Comedy|Drama\n",
      "3778     2028              Saving Private Ryan  1998      1998            169  Action|Drama|War\n",
      "5640     3105                       Awakenings  1990      1990            121   Biography|Drama\n",
      "user1 (id=1) ratings for list of recommendations:\n",
      "   MovieID  Rating\n",
      "0     1193     5.0\n",
      "1     1246     4.0\n",
      "2     1962     4.0\n",
      "3     2028     5.0\n",
      "4     3105     5.0\n",
      "user1 (id=2) ratings for list of recommendations:\n",
      "   MovieID  Rating\n",
      "0     1193     5.0\n",
      "1     1246     5.0\n",
      "2     1962     5.0\n",
      "3     2028     4.0\n",
      "4     3105     4.0\n"
     ]
    }
   ],
   "source": [
    "# Function to recommend movies for a combined user profile\n",
    "def recommend_movies_for_combined_user(combined_user_data, distinct_movies, num_recommendations=5):\n",
    "    # Find top-rated movies in the combined user profile\n",
    "    top_movies = combined_user_data.sort_values(ascending=False).head(num_recommendations)\n",
    "    \n",
    "    # Get movie details from distinct_movies dataframe\n",
    "    recommended_movies = distinct_movies[distinct_movies['MovieID'].isin(top_movies.index)]\n",
    "    \n",
    "    return recommended_movies\n",
    "\n",
    "pd.set_option('display.expand_frame_repr', False)  # Prevent line breaks\n",
    "\n",
    "# Recommendations for combined user data\n",
    "recommendations = recommend_movies_for_combined_user(combined_user_data, distinct_movies , num_recommendations=5)\n",
    "print(f\"The top {len(recommendations)} movie recommendations for combined user profile:\")\n",
    "print(recommendations)\n",
    "# Verify the recommendations by checking the ratings of user1 and user2\n",
    "\n",
    "user1_ratings = user_item_matrix.loc[user1_id, recommendations['MovieID']]\n",
    "user2_ratings = user_item_matrix.loc[user2_id, recommendations['MovieID']]\n",
    "\n",
    "user1_ratings = user1_ratings.reset_index()\n",
    "user2_ratings = user2_ratings.reset_index()\n",
    "\n",
    "user1_ratings.columns = ['MovieID', 'Rating']\n",
    "user2_ratings.columns = ['MovieID', 'Rating']\n",
    "\n",
    "print(f\"user1 (id={user1_id}) ratings for list of recommendations:\")\n",
    "print(user1_ratings)\n",
    "print(f\"user1 (id={user2_id}) ratings for list of recommendations:\")\n",
    "print(user2_ratings)\n"
   ]
  },
  {
   "cell_type": "markdown",
   "metadata": {},
   "source": [
    "3. **Model Development**\n",
    "   - Implement a recommender system algorithm (e.g., matrix factorization) to predict the rating of a movie by a couple of users."
   ]
  },
  {
   "cell_type": "markdown",
   "metadata": {},
   "source": [
    "Ici je voulais savoir le nombre de films notés par chaque utilisateur.\\\n",
    "Cela peut être utile pour savoir si en général les utilisateurs sont très actifs ou non.\\\n",
    "Car en fonction de cela, on peut adapter le modèle de recommandation.\\\n",
    "Ici sans surprise, on voit que la plupart des utilisateurs ont noté moins de 200 films."
   ]
  },
  {
   "cell_type": "code",
   "execution_count": 17,
   "metadata": {},
   "outputs": [
    {
     "data": {
      "image/png": "[encoded data removed]",
      "text/plain": [
       "<Figure size 1000x600 with 1 Axes>"
      ]
     },
     "metadata": {},
     "output_type": "display_data"
    }
   ],
   "source": [
    "# Plot the distribution of ratings by users\n",
    "plt.figure(figsize=(10, 6))\n",
    "plt.hist(user_ratings, bins=30, color='skyblue', edgecolor='black', linewidth=1.2)\n",
    "plt.title('Distribution of Ratings by Users: Most of them have few ratings')\n",
    "plt.xlabel('Number of Ratings')\n",
    "plt.ylabel('Number of Users')\n",
    "plt.show()"
   ]
  },
  {
   "cell_type": "markdown",
   "metadata": {},
   "source": [
    "Le modèle que j'ai choisi pour la recommandation est le modèle Alternating Least Squares (ALS) .\\\n",
    "Il provient de la librairie `implicit` développée par **benfred** et est disponible grâce à ce lien : https://github.com/benfred/implicit  \\\n",
    "ALS permet d'implémenter la factorisation de matrices pour la recommandation.\\\n",
    "La factorisation de matrices permet de répondre à plusieurs problèmes de dans le cadre de systèmes de recommandations.\\\n",
    "- > Popularity bias : Une minorité de film rassemble la majorité de notes. Les films qui sont le moins bien notés sont ainsi moins vus et cela créé un cercle vicieux pour eux. \n",
    ">\n",
    "- > Cold start : Certains utilisateurs (notamment les nouveaux) n'ont pas ou ont très peu donné de notes. Ce qui rend la prédiction plus difficile.\n",
    ">\n",
    "- > Scalability issue : les calculs sont très longs car on est amenés à manipuler une grande quantité d'information que ce soit sur les users ou les items \n",
    ">\n",
    "\n",
    "J'ai choisi le modèle ALS pour plusieurs raisons :\n",
    "- > ALS Handles Sparsity: Effectively works with sparse datasets. \n",
    ">\n",
    "Ce qui est le cas ici car d'après l'histogramme précédent, on s'attend a avoir une matrice (très) creuse.\\\n",
    "- > The main strength of the algorithm is the effectiveness and the computational efficiency.\n",
    ">\n",
    "Ce qui est toujours un plus.\n",
    "- > Scalable: Suitable for large-scale applications.\n",
    ">\n",
    "Je n'ai pas voulu paralléliser ALS en utilisant PySpark, car étant donné le nombre de films et d'utilisateurs, je ne pense pas que cela soit nécessaire.\\\n",
    "En fait la librairie implicit est déjà très performante et je n'ai pas eu de problèmes de performance avec elle."
   ]
  },
  {
   "cell_type": "code",
   "execution_count": 18,
   "metadata": {},
   "outputs": [
    {
     "name": "stderr",
     "output_type": "stream",
     "text": [
      "C:\\Users\\user_\\AppData\\Local\\Packages\\PythonSoftwareFoundation.Python.3.11_qbz5n2kfra8p0\\LocalCache\\local-packages\\Python311\\site-packages\\implicit\\cpu\\als.py:95: RuntimeWarning: OpenBLAS is configured to use 8 threads. It is highly recommended to disable its internal threadpool by setting the environment variable 'OPENBLAS_NUM_THREADS=1' or by calling 'threadpoolctl.threadpool_limits(1, \"blas\")'. Having OpenBLAS use a threadpool can lead to severe performance issues here.\n",
      "  check_blas_config()\n"
     ]
    },
    {
     "data": {
      "application/vnd.jupyter.widget-view+json": {
       "model_id": "5388a53061c64705821c38f15a136b84",
       "version_major": 2,
       "version_minor": 0
      },
      "text/plain": [
       "  0%|          | 0/50 [00:00<?, ?it/s]"
      ]
     },
     "metadata": {},
     "output_type": "display_data"
    },
    {
     "name": "stdout",
     "output_type": "stream",
     "text": [
      "Nombre d'utilisateurs dans le modèle: 6040\n",
      "Nombre de films dans le modèle: 2460\n",
      "Nombre d'utilisateurs dans user_mapping: 6040\n",
      "Nombre de films dans item_mapping: 2460\n"
     ]
    }
   ],
   "source": [
    "from sklearn.preprocessing import MinMaxScaler\n",
    "from implicit.als import AlternatingLeastSquares\n",
    "import scipy.sparse as sparse\n",
    "\n",
    "def normalize_ratings(ratings):\n",
    "    scaler = MinMaxScaler((0, 1))\n",
    "    normalized_ratings = ratings.copy()\n",
    "    for column in normalized_ratings.columns:\n",
    "        non_zero_mask = normalized_ratings[column] > 0\n",
    "        normalized_ratings.loc[non_zero_mask, column] = scaler.fit_transform(normalized_ratings.loc[non_zero_mask, column].values.reshape(-1, 1)).flatten()\n",
    "    return normalized_ratings, scaler\n",
    "\n",
    "def train_als_model(user_item_matrix, factors=50, regularization=0.01, iterations=50):\n",
    "    normalized_ratings, scaler = normalize_ratings(user_item_matrix)\n",
    "    sparse_user_item = sparse.csr_matrix(normalized_ratings.values)\n",
    "    \n",
    "    model = AlternatingLeastSquares(factors=factors, regularization=regularization, iterations=iterations, calculate_training_loss=True)\n",
    "    model.fit(sparse_user_item)  # Do not transpose the matrix\n",
    "    \n",
    "    return model, user_item_matrix.index, user_item_matrix.columns, scaler\n",
    "\n",
    "\n",
    "# Train the model\n",
    "als_model, user_mapping, item_mapping, scaler = train_als_model(user_item_matrix, factors=50, regularization=0.001, iterations=50)\n",
    "\n",
    "# Verify dimensions\n",
    "print(f\"Nombre d'utilisateurs dans le modèle: {als_model.user_factors.shape[0]}\") # 6040\n",
    "print(f\"Nombre de films dans le modèle: {als_model.item_factors.shape[0]}\") # 2460\n",
    "print(f\"Nombre d'utilisateurs dans user_mapping: {len(user_mapping)}\") # 6040\n",
    "print(f\"Nombre de films dans item_mapping: {len(item_mapping)}\") # 2460\n",
    "\n"
   ]
  },
  {
   "cell_type": "markdown",
   "metadata": {},
   "source": [
    "4. **Recommendation Algorithm**\n",
    "   - Develop an algorithm to suggest one movie that might be liked by the couple of users. You can use the criteria you prefer to create a \"couple score\" for each movie and then sort the movies by the score.\n",
    "\n",
    "Comme expliqué précédemment, je vais faire la moyenne des notes pour chaque film.\\\n",
    "Je rajoute une colonne qui va contenir la note prédictive pour le couple d'utilisateur."
   ]
  },
  {
   "cell_type": "code",
   "execution_count": 19,
   "metadata": {},
   "outputs": [],
   "source": [
    "def recommend_movies_als(user1_id, user2_id, als_model, user_mapping, item_mapping, distinct_movies, num_recommendations=5):\n",
    "    user1_idx = user_mapping.get_loc(user1_id)\n",
    "    user2_idx = user_mapping.get_loc(user2_id)\n",
    "    \n",
    "    user1_factors = als_model.user_factors[user1_idx]\n",
    "    user2_factors = als_model.user_factors[user2_idx]\n",
    "    \n",
    "    combined_factors = (user1_factors + user2_factors) / 2\n",
    "    \n",
    "    scores = als_model.item_factors.dot(combined_factors)\n",
    "    top_items = np.argsort(scores)[::-1][:num_recommendations]\n",
    "    \n",
    "    recommended_movie_ids = item_mapping[top_items].tolist()\n",
    "    recommended_movies = distinct_movies[distinct_movies['MovieID'].isin(recommended_movie_ids)].copy()\n",
    "    \n",
    "    # Scale the scores back to the original [0, 5] range\n",
    "    predicted_ratings = (scores[top_items] * 5).clip(0, 5)\n",
    "    recommended_movies.loc[:, 'PredictedRating'] = predicted_ratings\n",
    "    \n",
    "    return recommended_movies.sort_values('PredictedRating', ascending=False)\n"
   ]
  },
  {
   "cell_type": "markdown",
   "metadata": {},
   "source": [
    "Ma fonction est implémentée.\\\n",
    "Je vais maintenant la tester sur un couple d'utilisateur.\\\n",
    "Je vais prendre le couple d'utilisateur 1 et 2."
   ]
  },
  {
   "cell_type": "code",
   "execution_count": 20,
   "metadata": {},
   "outputs": [
    {
     "name": "stdout",
     "output_type": "stream",
     "text": [
      "      MovieID                                           Title  Year startYear runtimeMinutes                                            Genres  PredictedRating\n",
      "0           1                                       Toy Story  1995      1995             81             Adventure|Animation|Children's|Comedy         4.445719\n",
      "252       110                                      Braveheart  1995      1925             71                          Action|Drama|War|Western         3.611162\n",
      "1030      527                                Schindler's List  1993      1993            195                       Biography|Drama|History|War         3.412012\n",
      "2108     1097                      E.T. the Extra-Terrestrial  1982      1982            115  Adventure|Children's|Drama|Family|Fantasy|Sci-Fi         3.366072\n",
      "2218     1193                 One Flew Over the Cuckoo's Nest  1975      1975            133                                             Drama         2.953738\n",
      "2223     1196  Star Wars: Episode V - The Empire Strikes Back  1980      1980            124         Action|Adventure|Drama|Fantasy|Sci-Fi|War         2.619747\n",
      "2254     1225                                         Amadeus  1984      1984            160                             Biography|Drama|Music         2.549847\n",
      "2360     1270                              Back to the Future  1985      1985            116                           Adventure|Comedy|Sci-Fi         2.471877\n",
      "3667     1961                                        Rain Man  1988      1988            133                                             Drama         2.462855\n",
      "3778     2028                             Saving Private Ryan  1998      1998            169                                  Action|Drama|War         2.365277\n"
     ]
    }
   ],
   "source": [
    "# Use the new model for recommendations\n",
    "user1_id = 1  # First user in the mapping\n",
    "user2_id = 2  # Second user in the mapping\n",
    "recommendations = recommend_movies_als(user1_id, user2_id, als_model, user_mapping, item_mapping, distinct_movies, num_recommendations=10)\n",
    "print(recommendations)"
   ]
  },
  {
   "cell_type": "markdown",
   "metadata": {},
   "source": [
    "Maintenant, au lieu de prendre l'utilisateur 1 et 2, je vais prendre les utilisateurs qui ont noté le plus de films."
   ]
  },
  {
   "cell_type": "code",
   "execution_count": 21,
   "metadata": {},
   "outputs": [
    {
     "name": "stdout",
     "output_type": "stream",
     "text": [
      "UserID\n",
      "4169    1557\n",
      "1680    1314\n",
      "4277    1190\n",
      "Name: count, dtype: int64\n"
     ]
    }
   ],
   "source": [
    "# Get the users that have the most ratings\n",
    "biggest_user_ratings = filtered_ratings_df['UserID'].value_counts()\n",
    "print(biggest_user_ratings.head(3))"
   ]
  },
  {
   "cell_type": "markdown",
   "metadata": {},
   "source": [
    "Les utilisateurs qui ont le plus noté de films sont les utilisateurs 4169 et 1680.\\\n",
    "Je vais leur proposer des recommandations."
   ]
  },
  {
   "cell_type": "code",
   "execution_count": 22,
   "metadata": {},
   "outputs": [
    {
     "name": "stdout",
     "output_type": "stream",
     "text": [
      "      MovieID                                    Title  Year startYear runtimeMinutes                        Genres  PredictedRating\n",
      "44         22                                  Copycat  1995      1995            123  Crime|Drama|Mystery|Thriller              5.0\n",
      "252       110                               Braveheart  1995      1925             71      Action|Drama|War|Western              5.0\n",
      "2218     1193          One Flew Over the Cuckoo's Nest  1975      1975            133                         Drama              5.0\n",
      "2360     1270                       Back to the Future  1985      1985            116       Adventure|Comedy|Sci-Fi              5.0\n",
      "2493     1345                                   Carrie  1976      1952            118          Drama|Horror|Romance              5.0\n",
      "3210     1711  Midnight in the Garden of Good and Evil  1997      1997            155    Comedy|Crime|Drama|Mystery              5.0\n",
      "3822     2076                              Blue Velvet  1986      1986            120           Crime|Drama|Mystery              5.0\n",
      "4342     2336                                Elizabeth  1998      1998            124       Biography|Drama|History              5.0\n",
      "4640     2528                              Logan's Run  1976      1976            119       Action|Adventure|Sci-Fi              5.0\n",
      "5060     2746                   Little Shop of Horrors  1986      1986             94         Comedy|Horror|Musical              5.0\n"
     ]
    }
   ],
   "source": [
    "# Make recommendations for the two users with the most ratings\n",
    "user1_id = 4169    \n",
    "user2_id = 1680\n",
    "recommendations = recommend_movies_als(user1_id, user2_id, als_model, user_mapping, item_mapping, distinct_movies, num_recommendations=10)\n",
    "print(recommendations)"
   ]
  },
  {
   "cell_type": "markdown",
   "metadata": {},
   "source": [
    "Au lieu de prendre des utilisateurs arbitraires, je vais prendre des utilisateurs de manière aléatoire.\\\n",
    "Je fais cela pour, à vue d'oeil, m'assurer que les résultats sont cohérents.\\\n",
    "Par exemple avec un modèle de FunkSVD que j'avais essayé d'implémenter, j'obtenais presque toujours les mêmes recommandations pour des utilisateurs différents."
   ]
  },
  {
   "cell_type": "code",
   "execution_count": 23,
   "metadata": {},
   "outputs": [
    {
     "name": "stdout",
     "output_type": "stream",
     "text": [
      "Randomly selected users: 773 and 3979\n",
      "The top 10 movie recommendations for combined user profile:\n",
      "      MovieID                                       Title  Year startYear runtimeMinutes                                             Genres  PredictedRating\n",
      "1106      588                                     Aladdin  1992      1986             95  Adventure|Animation|Children's|Comedy|Fantasy|...         2.686348\n",
      "1116      594             Snow White and the Seven Dwarfs  1937      1937             83      Adventure|Animation|Children's|Family|Musical         2.666282\n",
      "1121      595                        Beauty and the Beast  1991      1946             93  Animation|Children's|Drama|Fantasy|Musical|Rom...         2.592366\n",
      "1970     1022                                  Cinderella  1950      1914             52         Animation|Children's|Drama|Fantasy|Musical         2.501067\n",
      "1998     1029                                       Dumbo  1941      1941             64       Adventure|Animation|Children's|Drama|Musical         2.311625\n",
      "2235     1210  Star Wars: Episode VI - Return of the Jedi  1983      1983            131        Action|Adventure|Fantasy|Romance|Sci-Fi|War         2.301137\n",
      "3760     2018                                       Bambi  1942      1942             69               Adventure|Animation|Children's|Drama         2.250849\n",
      "3845     2080                          Lady and the Tramp  1955      1955             76  Adventure|Animation|Children's|Comedy|Musical|...         2.241126\n",
      "3850     2087                                   Peter Pan  1953      1924            105  Adventure|Animation|Children's|Family|Fantasy|...         2.208632\n",
      "3860     2096                             Sleeping Beauty  1959      1942             90                 Animation|Children's|Drama|Musical         2.200005\n",
      "--------------------------------------------------\n",
      "Randomly selected users: 5888 and 1958\n",
      "The top 10 movie recommendations for combined user profile:\n",
      "      MovieID                     Title  Year startYear runtimeMinutes                                 Genres  PredictedRating\n",
      "106        39                  Clueless  1995      1995             97                         Comedy|Romance              5.0\n",
      "865       440                      Dave  1993      1993            110                         Comedy|Romance              5.0\n",
      "1045      539      Sleepless in Seattle  1993      1993            105                   Comedy|Drama|Romance              5.0\n",
      "1092      587                     Ghost  1990      1990            127  Comedy|Drama|Fantasy|Romance|Thriller              5.0\n",
      "1147      597              Pretty Woman  1990      1990            119                         Comedy|Romance              5.0\n",
      "2326     1259               Stand by Me  1986      1986             89                 Adventure|Comedy|Drama              5.0\n",
      "2416     1307   When Harry Met Sally...  1989      1989             95                   Comedy|Drama|Romance              5.0\n",
      "2968     1569  My Best Friend's Wedding  1997      1997            105                   Comedy|Drama|Romance              5.0\n",
      "4451     2424           You've Got Mail  1998      1998            119                   Comedy|Drama|Romance              5.0\n",
      "5407     2918  Ferris Bueller's Day Off  1986      1986            103                                 Comedy              5.0\n",
      "--------------------------------------------------\n",
      "Randomly selected users: 4132 and 3527\n",
      "The top 10 movie recommendations for combined user profile:\n",
      "      MovieID                                           Title  Year startYear runtimeMinutes                                       Genres  PredictedRating\n",
      "528       260              Star Wars: Episode IV - A New Hope  1977      1977            121              Action|Adventure|Fantasy|Sci-Fi         4.231987\n",
      "2223     1196  Star Wars: Episode V - The Empire Strikes Back  1980      1980            124    Action|Adventure|Drama|Fantasy|Sci-Fi|War         3.767484\n",
      "2235     1210      Star Wars: Episode VI - Return of the Jedi  1983      1983            131  Action|Adventure|Fantasy|Romance|Sci-Fi|War         3.635240\n",
      "2540     1387                                            Jaws  1975      1975            124     Action|Adventure|Horror|Mystery|Thriller         3.193856\n",
      "3736     2000                                   Lethal Weapon  1987      1987            109           Action|Comedy|Crime|Drama|Thriller         3.192284\n",
      "4976     2683           Austin Powers: The Spy Who Shagged Me  1999      1999             95                      Action|Adventure|Comedy         3.119966\n",
      "4993     2706                                    American Pie  1999      1980             86                                 Adult|Comedy         3.115128\n",
      "4999     2716                                    Ghostbusters  1984      1984            105                 Action|Comedy|Fantasy|Horror         2.972580\n",
      "5274     2858                                 American Beauty  1999      1999            122                                 Comedy|Drama         2.929861\n",
      "6385     3578                                       Gladiator  2000      1992            101                           Action|Drama|Sport         2.828408\n",
      "--------------------------------------------------\n",
      "Randomly selected users: 4314 and 638\n",
      "The top 10 movie recommendations for combined user profile:\n",
      "      MovieID                                           Title  Year startYear runtimeMinutes                                       Genres  PredictedRating\n",
      "2223     1196  Star Wars: Episode V - The Empire Strikes Back  1980      1980            124    Action|Adventure|Drama|Fantasy|Sci-Fi|War         4.759099\n",
      "2224     1198                         Raiders of the Lost Ark  1981      1981            115                             Action|Adventure         3.282006\n",
      "2235     1210      Star Wars: Episode VI - Return of the Jedi  1983      1983            131  Action|Adventure|Fantasy|Romance|Sci-Fi|War         3.017175\n",
      "2326     1259                                     Stand by Me  1986      1986             89                       Adventure|Comedy|Drama         2.510116\n",
      "2402     1291              Indiana Jones and the Last Crusade  1989      1989            127                             Action|Adventure         2.453686\n",
      "3736     2000                                   Lethal Weapon  1987      1987            109           Action|Comedy|Crime|Drama|Thriller         2.340409\n",
      "4426     2406                             Romancing the Stone  1984      1984            106              Action|Adventure|Comedy|Romance         2.315153\n",
      "5407     2918                        Ferris Bueller's Day Off  1986      1986            103                                       Comedy         2.284958\n",
      "6385     3578                                       Gladiator  2000      1992            101                           Action|Drama|Sport         2.198088\n",
      "6825     3793                                           X-Men  2000      2000            104                      Action|Adventure|Sci-Fi         2.131485\n",
      "--------------------------------------------------\n",
      "Randomly selected users: 3385 and 5579\n",
      "The top 10 movie recommendations for combined user profile:\n",
      "      MovieID                       Title  Year startYear runtimeMinutes                                            Genres  PredictedRating\n",
      "595       296                Pulp Fiction  1994      1994            154                                       Crime|Drama         1.835736\n",
      "1030      527            Schindler's List  1993      1993            195                       Biography|Drama|History|War         1.512639\n",
      "1169      608                       Fargo  1996      1952             69                      Crime|Drama|Thriller|Western         1.440927\n",
      "2103     1090                     Platoon  1986      1986            120                                         Drama|War         1.439415\n",
      "2108     1097  E.T. the Extra-Terrestrial  1982      1982            115  Adventure|Children's|Drama|Family|Fantasy|Sci-Fi         1.238639\n",
      "2540     1387                        Jaws  1975      1975            124          Action|Adventure|Horror|Mystery|Thriller         1.177841\n",
      "3736     2000               Lethal Weapon  1987      1987            109                Action|Comedy|Crime|Drama|Thriller         0.997958\n",
      "3737     2001             Lethal Weapon 2  1989      1989            114                Action|Comedy|Crime|Drama|Thriller         0.941508\n",
      "3778     2028         Saving Private Ryan  1998      1998            169                                  Action|Drama|War         0.891557\n",
      "4271     2302             My Cousin Vinny  1992      1992            120                                      Comedy|Crime         0.807356\n",
      "--------------------------------------------------\n",
      "Randomly selected users: 5162 and 2750\n",
      "The top 10 movie recommendations for combined user profile:\n",
      "      MovieID                            Title  Year startYear runtimeMinutes                                 Genres  PredictedRating\n",
      "0           1                        Toy Story  1995      1995             81  Adventure|Animation|Children's|Comedy         3.379365\n",
      "91         34                             Babe  1995      1981             80  Adult|Children's|Comedy|Drama|Romance         3.096428\n",
      "664       356                     Forrest Gump  1994      1994            142               Comedy|Drama|Romance|War         3.027471\n",
      "1030      527                 Schindler's List  1993      1993            195            Biography|Drama|History|War         2.964788\n",
      "1169      608                            Fargo  1996      1952             69           Crime|Drama|Thriller|Western         2.845855\n",
      "2139     1136  Monty Python and the Holy Grail  1974      1975             91               Adventure|Comedy|Fantasy         2.836542\n",
      "2326     1259                      Stand by Me  1986      1986             89                 Adventure|Comedy|Drama         2.825257\n",
      "2351     1265                    Groundhog Day  1993      1993            101           Comedy|Drama|Fantasy|Romance         2.698585\n",
      "2990     1580                     Men in Black  1997      1997             98         Action|Adventure|Comedy|Sci-Fi         2.632971\n",
      "5274     2858                  American Beauty  1999      1999            122                           Comedy|Drama         2.627272\n",
      "--------------------------------------------------\n",
      "Randomly selected users: 3842 and 788\n",
      "The top 10 movie recommendations for combined user profile:\n",
      "      MovieID                                           Title  Year startYear runtimeMinutes                                            Genres  PredictedRating\n",
      "528       260              Star Wars: Episode IV - A New Hope  1977      1977            121                   Action|Adventure|Fantasy|Sci-Fi         5.000000\n",
      "1047      541                                    Blade Runner  1982      1982            117                     Action|Drama|Film-Noir|Sci-Fi         4.482781\n",
      "2108     1097                      E.T. the Extra-Terrestrial  1982      1982            115  Adventure|Children's|Drama|Family|Fantasy|Sci-Fi         4.470672\n",
      "2218     1193                 One Flew Over the Cuckoo's Nest  1975      1975            133                                             Drama         4.456678\n",
      "2223     1196  Star Wars: Episode V - The Empire Strikes Back  1980      1980            124         Action|Adventure|Drama|Fantasy|Sci-Fi|War         4.421199\n",
      "2224     1198                         Raiders of the Lost Ark  1981      1981            115                                  Action|Adventure         4.255179\n",
      "2360     1270                              Back to the Future  1985      1985            116                           Adventure|Comedy|Sci-Fi         4.218743\n",
      "3982     2174                                     Beetlejuice  1988      1988             92                                    Comedy|Fantasy         4.163754\n",
      "4999     2716                                    Ghostbusters  1984      1984            105                      Action|Comedy|Fantasy|Horror         4.111951\n",
      "5731     3175                                    Galaxy Quest  1999      1999            102                           Adventure|Comedy|Sci-Fi         4.082638\n",
      "--------------------------------------------------\n",
      "Randomly selected users: 183 and 3881\n",
      "The top 10 movie recommendations for combined user profile:\n",
      "      MovieID                         Title  Year startYear runtimeMinutes                                 Genres  PredictedRating\n",
      "0           1                     Toy Story  1995      1995             81  Adventure|Animation|Children's|Comedy         4.389044\n",
      "2317     1252                     Chinatown  1974      1974            130       Drama|Film-Noir|Mystery|Thriller         2.787205\n",
      "2351     1265                 Groundhog Day  1993      1993            101           Comedy|Drama|Fantasy|Romance         2.639867\n",
      "2360     1270            Back to the Future  1985      1985            116                Adventure|Comedy|Sci-Fi         2.339499\n",
      "3550     1923  There's Something About Mary  1998      1998            119                         Comedy|Romance         2.282905\n",
      "3982     2174                   Beetlejuice  1988      1988             92                         Comedy|Fantasy         2.262341\n",
      "5114     2791                     Airplane!  1980      1980             88                                 Comedy         2.235686\n",
      "5125     2797                           Big  1988      1988            104                   Comedy|Drama|Fantasy         2.185442\n",
      "5274     2858               American Beauty  1999      1999            122                           Comedy|Drama         2.126991\n",
      "5469     2997          Being John Malkovich  1999      1999            113                   Comedy|Drama|Fantasy         2.070493\n",
      "--------------------------------------------------\n",
      "Randomly selected users: 4880 and 3784\n",
      "The top 10 movie recommendations for combined user profile:\n",
      "      MovieID                 Title  Year startYear runtimeMinutes                                 Genres  PredictedRating\n",
      "0           1             Toy Story  1995      1995             81  Adventure|Animation|Children's|Comedy         4.471260\n",
      "91         34                  Babe  1995      1981             80  Adult|Children's|Comedy|Drama|Romance         4.376359\n",
      "664       356          Forrest Gump  1994      1994            142               Comedy|Drama|Romance|War         2.612133\n",
      "1030      527      Schindler's List  1993      1993            195            Biography|Drama|History|War         2.314825\n",
      "2351     1265         Groundhog Day  1993      1993            101           Comedy|Drama|Fantasy|Romance         2.294447\n",
      "3778     2028   Saving Private Ryan  1998      1998            169                       Action|Drama|War         2.261562\n",
      "4416     2396   Shakespeare in Love  1998      1998            123           Comedy|Drama|History|Romance         2.155472\n",
      "5274     2858       American Beauty  1999      1999            122                           Comedy|Drama         2.149429\n",
      "5469     2997  Being John Malkovich  1999      1999            113                   Comedy|Drama|Fantasy         2.004041\n",
      "5652     3114           Toy Story 2  1999      1999             92  Adventure|Animation|Children's|Comedy         1.868127\n",
      "--------------------------------------------------\n",
      "Randomly selected users: 5738 and 4349\n",
      "The top 10 movie recommendations for combined user profile:\n",
      "      MovieID                     Title  Year startYear runtimeMinutes                                    Genres  PredictedRating\n",
      "0           1                 Toy Story  1995      1995             81     Adventure|Animation|Children's|Comedy         3.603850\n",
      "1856      968  Night of the Living Dead  1968      1968             96                    Horror|Sci-Fi|Thriller         3.462385\n",
      "2227     1200                    Aliens  1986      1986            137      Action|Adventure|Sci-Fi|Thriller|War         3.388326\n",
      "2236     1214                     Alien  1979      1979            117             Action|Horror|Sci-Fi|Thriller         3.347076\n",
      "2248     1222         Full Metal Jacket  1987      1987            116                          Action|Drama|War         2.982376\n",
      "2540     1387                      Jaws  1975      1975            124  Action|Adventure|Horror|Mystery|Thriller         2.860753\n",
      "3778     2028       Saving Private Ryan  1998      1998            169                          Action|Drama|War         2.851143\n",
      "4416     2396       Shakespeare in Love  1998      1998            123              Comedy|Drama|History|Romance         2.840312\n",
      "4999     2716              Ghostbusters  1984      1984            105              Action|Comedy|Fantasy|Horror         2.838807\n",
      "6319     3527                  Predator  1987      1987            107   Action|Adventure|Horror|Sci-Fi|Thriller         2.804551\n",
      "--------------------------------------------------\n"
     ]
    }
   ],
   "source": [
    "# Provide recommendations for a random couple of users\n",
    "import random\n",
    "for i in range(10):\n",
    "    # Randomly selected users\n",
    "    random_users = random.sample(user_mapping.tolist(), 2)\n",
    "    user1_id = random_users[0]\n",
    "    user2_id = random_users[1]\n",
    "    \n",
    "    print(f\"Randomly selected users: {user1_id} and {user2_id}\")\n",
    "    \n",
    "    recommendations = recommend_movies_als(user1_id, user2_id, als_model, user_mapping, item_mapping, distinct_movies, num_recommendations=10)\n",
    "    print(f\"The top {len(recommendations)} movie recommendations for combined user profile:\")\n",
    "    print(recommendations)\n",
    "    print(\"--------------------------------------------------\")"
   ]
  },
  {
   "cell_type": "markdown",
   "metadata": {},
   "source": [
    "5. **Evaluation**\n",
    "   - Split the data into training and testing sets.\n",
    "   - Evaluate the model, choose the metric you prefer."
   ]
  },
  {
   "cell_type": "markdown",
   "metadata": {},
   "source": [
    "Le modèle ALS cherche aussi à minimiser deux \"Least Square\" problèmes d'optimisation.\\\n",
    "C'est pour cela que j'ai décidé d'utiliser la MSE pour évaluer le modèle."
   ]
  },
  {
   "cell_type": "code",
   "execution_count": 24,
   "metadata": {},
   "outputs": [
    {
     "data": {
      "application/vnd.jupyter.widget-view+json": {
       "model_id": "dc3d26b3535446b2a16044eee7961559",
       "version_major": 2,
       "version_minor": 0
      },
      "text/plain": [
       "  0%|          | 0/50 [00:00<?, ?it/s]"
      ]
     },
     "metadata": {},
     "output_type": "display_data"
    }
   ],
   "source": [
    "from sklearn.model_selection import train_test_split\n",
    "\n",
    "# Split the data into training and test sets\n",
    "train_data, test_data = train_test_split(filtered_ratings_df, test_size=0.2, random_state=42, shuffle=True)\n",
    "\n",
    "# Create user-item matrices for training and test sets\n",
    "train_user_item_matrix = train_data.pivot(index='UserID', columns='MovieID', values='Rating').fillna(0)\n",
    "test_user_item_matrix = test_data.pivot(index='UserID', columns='MovieID', values='Rating').fillna(0)\n",
    "# Train the model on the training set\n",
    "als_model, train_user_mapping, train_item_mapping, scaler = train_als_model(train_user_item_matrix, factors=50, regularization=0.001, iterations=50)\n",
    "\n",
    "def predict_ratings_als(user_id, als_model, user_mapping, item_mapping):\n",
    "    user_idx = user_mapping.get_loc(user_id)\n",
    "    user_factors = als_model.user_factors[user_idx]\n",
    "    scores = als_model.item_factors.dot(user_factors)\n",
    "    # Ensure lengths match\n",
    "    if len(scores) != len(item_mapping):\n",
    "        raise ValueError(f\"Length of scores ({len(scores)}) does not match length of item_mapping ({len(item_mapping)})\")\n",
    "    \n",
    "    predicted_ratings = pd.Series(scores, index=item_mapping).clip(0, 5)\n",
    "    return predicted_ratings"
   ]
  },
  {
   "cell_type": "code",
   "execution_count": 25,
   "metadata": {},
   "outputs": [
    {
     "name": "stdout",
     "output_type": "stream",
     "text": [
      "Mean Squared Error: 0.13572536383716638\n"
     ]
    }
   ],
   "source": [
    "from sklearn.metrics import mean_squared_error\n",
    "\n",
    "# Generate predictions for the test set\n",
    "test_predictions = pd.DataFrame(index=test_user_item_matrix.index, columns=test_user_item_matrix.columns)\n",
    "for user_id in test_user_item_matrix.index:\n",
    "    if user_id in user_mapping:\n",
    "        test_predictions.loc[user_id] = predict_ratings_als(user_id, als_model, train_user_mapping, train_item_mapping)\n",
    "\n",
    "# Flatten the test data and predictions to calculate MSE\n",
    "true_ratings = test_user_item_matrix.values.flatten()\n",
    "predicted_ratings = test_predictions.values.flatten()\n",
    "\n",
    "# Filter out NaN values (unseen data)\n",
    "mask = ~np.isnan(true_ratings) & ~pd.isna(predicted_ratings)\n",
    "true_ratings = true_ratings[mask]\n",
    "predicted_ratings = predicted_ratings[mask]\n",
    "\n",
    "# Calculate MSE\n",
    "mse = mean_squared_error(true_ratings, predicted_ratings)\n",
    "print(f'Mean Squared Error: {mse}')"
   ]
  },
  {
   "cell_type": "markdown",
   "metadata": {},
   "source": [
    "## Interprétation critique des résultats\n",
    "D'un côté je suis satisfait des résultats.\n",
    "- Le prétraitement des données donne un dataframe qui me convient.\n",
    "- La user-item interaction matrix est bien créée.\n",
    "- La mse est acceptable, selon moi.\n",
    "\n",
    "Mais d'un autre côté il y a plusieurs points faibles à mon approche.\n",
    "- Je n'ai pas pu utiliser le dataset name.basics.tsv.gz de IMDB, il y a donc une perte d'information sur l'utilisateur.\n",
    "    - Dans un cas réel, il serait intéressant de pouvoir utiliser ces informations pour améliorer le modèle et proposer des recommendations <ins>personalisées</ins>.\n",
    "    - J'aurais pu le faire, du moins tenter d'implémenter cette partie sur une toute petite partie du dataset au lieu du dataset entier, pour voir si cela était possible.\n",
    "- Toute la feature selection/engineering que j'ai fait <ins>n'a servi à rien car la matrice user-item n'utilise que les ids et les ratings !</ins>\n",
    "\n",
    "- Concernant le modèle, il pourrait être fine-tuné améliorer les résultats.\\\n",
    "On pourrait augmenter le nombre d'itérations, ou bien changer le le nombre de factors, ou encore la régularisation pour éviter l'overfiting.\n",
    "\n"
   ]
  }
 ],
 "metadata": {
  "kernelspec": {
   "display_name": "Python 3",
   "language": "python",
   "name": "python3"
  },
  "language_info": {
   "codemirror_mode": {
    "name": "ipython",
    "version": 3
   },
   "file_extension": ".py",
   "mimetype": "text/x-python",
   "name": "python",
   "nbconvert_exporter": "python",
   "pygments_lexer": "ipython3",
   "version": "3.11.9"
  }
 },
 "nbformat": 4,
 "nbformat_minor": 2
}
